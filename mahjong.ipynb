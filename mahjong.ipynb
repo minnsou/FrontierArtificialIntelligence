{
 "cells": [
  {
   "cell_type": "markdown",
   "metadata": {
    "colab_type": "text",
    "id": "tkLa-ZvjEvPc"
   },
   "source": [
    " **変数の意味**\n",
    "\n",
    "- state : あがりに必要な枚数の手牌の状態\n",
    "\n",
    "- hand : stateから一枚切った状態\n",
    "\n",
    "- hist : stateやhandをヒストグラムで表したもの（長さが牌種のリスト）\n",
    "\n",
    "- kind_tile : 用いる牌の種類数\n",
    "\n",
    "- num_hand : 手牌の枚数\n",
    "\n",
    "- NUM_SANE_TILE : 同一牌の枚数(基本的に4で固定)\n",
    "\n",
    "\n",
    "0=1m, 1=2m, ... , 7=8m, 8=9m, 9=1p, 10=2p, ... ,16=8p, 17=9p, 18=1s, 19=2s, ... ,25=8s, 26=9s, 27=東, ... , 33=中"
   ]
  },
  {
   "cell_type": "code",
   "execution_count": 22,
   "metadata": {},
   "outputs": [],
   "source": [
    "from collections import defaultdict\n",
    "import itertools\n",
    "import numpy as np\n",
    "import pandas as pd\n",
    "import matplotlib.pyplot as plt\n",
    "import random\n",
    "from sklearn.model_selection import train_test_split\n",
    "import time\n",
    "\n",
    "random_seed = 0\n",
    "np.random.seed(random_seed)"
   ]
  },
  {
   "cell_type": "markdown",
   "metadata": {
    "colab_type": "text",
    "id": "JiMFUnpH-fQ5"
   },
   "source": [
    "### 必要な関数の再定義"
   ]
  },
  {
   "cell_type": "code",
   "execution_count": 23,
   "metadata": {
    "colab": {},
    "colab_type": "code",
    "id": "CwuINT6T-fQ6"
   },
   "outputs": [],
   "source": [
    "def is_valid(seq, NUM_SAME_TILE=4): # 生成された組み合わせが手牌として妥当かどうかを判断する関数　tuple(seq)の一つ一つが一つの状態(手牌)に対応している\n",
    "    counts = defaultdict(lambda: 0)\n",
    "    for i in range(0, len(seq)):\n",
    "        if i + 1 < len(seq) and seq[i] > seq[i + 1]: # 前半の条件はiが一番最後以外は常に成立、後半の条件は昇順に整列するための条件\n",
    "            return False\n",
    "        counts[seq[i]] += 1\n",
    "        if (counts[seq[i]] > NUM_SAME_TILE): return False # 牌の上限枚数を超えたらFalse\n",
    "    return True\n",
    "    \n",
    "def generate_all_l(kind_tile, num_hand, NUM_SAME_TILE=4): # 全ての手牌の組み合わせをタプルで出力する関数\n",
    "    gen_list = []\n",
    "    for seq in itertools.product(range(kind_tile), repeat=num_hand):\n",
    "        if is_valid(seq, NUM_SAME_TILE):\n",
    "            gen_list.append(seq)\n",
    "    return gen_list\n",
    "\n",
    "def state2hist(state, kind_tile): # 手牌(state)を、牌種ごとの枚数のリスト(長さkind_tile)に変換する関数\n",
    "    hist = [0] * kind_tile # hist = [0,0,...,0]\n",
    "    for tile in state:\n",
    "        hist[tile] += 1\n",
    "    return hist\n",
    "\n",
    "def states2hists(state_list, kind_tile): # 手牌(state)のリストを、牌種ごとの枚数のリストに変換する関数\n",
    "    hist_list = []\n",
    "    for state in state_list:\n",
    "        #print(state)\n",
    "        hist = [0] * kind_tile # hist = [0,0,...,0]\n",
    "        for tile in state:\n",
    "            hist[tile] += 1\n",
    "        hist_list.append(hist)\n",
    "    return hist_list\n",
    "\n",
    "def state2hist_for_win(state, NUM_KIND_TILES=34): # あがり判定のために牌種の間には0を入れたhistを生成する関数\n",
    "    hist = [0] * (NUM_KIND_TILES + 9) # hist = [0,0,...,0]\n",
    "    for tile in state:\n",
    "        if tile <= 8: # 萬子\n",
    "            hist[tile] += 1\n",
    "        elif tile <= 17: # 筒子\n",
    "            hist[tile + 1] += 1\n",
    "        elif tile <= 26: # 索子\n",
    "            hist[tile + 2] += 1\n",
    "        else: # 字牌\n",
    "            hist[30 + (tile - 27) * 2] += 1\n",
    "    return hist\n",
    "\n",
    "def win_split_sub(hist, two, three, split_state, agari_list):\n",
    "    if any(x < 0 for x in hist):\n",
    "        return\n",
    "    if two == 0 and three == 0:\n",
    "        agari_list.append(tuple(split_state))\n",
    "        return\n",
    "    i = next(i for i, x in enumerate(hist) if x > 0) # histの中でx>０を満たす最小のindexを持ってくる\n",
    "    next_hist = [x - 2 if i == j else x for j, x in enumerate(hist)]\n",
    "    if two > 0 and hist[i] == 2: # 雀頭\n",
    "        win_split_sub(next_hist, two - 1, three, split_state + [(i, i)], agari_list)\n",
    "    next_hist = [x - 3 if i == j else x for j, x in enumerate(hist)]\n",
    "    if three > 0 and hist[i] == 3: # 刻子\n",
    "        win_split_sub(next_hist, two, three - 1, split_state + [(i, i, i)], agari_list)\n",
    "    next_hist = [x -1 if i <= j <= i + 2 else x for j, x in enumerate(hist)]\n",
    "    if three > 0 and i + 2 < len(hist): # 順子\n",
    "        win_split_sub(next_hist, two, three - 1, split_state + [(i, i+1, i+2)], agari_list)\n",
    "    return \n",
    "    \n",
    "def win_split_main(hist): # あがり判定\n",
    "    n_two = 1 if sum(hist) % 3 == 2 else 0\n",
    "    n_three = sum(hist) // 3\n",
    "    agari_list = []\n",
    "    win_split_sub(hist, n_two, n_three, [], agari_list)\n",
    "    if len(agari_list) == 0:\n",
    "        return (False, set())\n",
    "    else:\n",
    "        return (True, agari_list)\n",
    "\n",
    "def is_tanyao(state):\n",
    "    for hai in state:\n",
    "        if hai == 0 or hai == 8:\n",
    "            return False\n",
    "    return True\n",
    "\n",
    "def is_chanta(split_state):\n",
    "    state_value = True\n",
    "    for block in split_state:\n",
    "        if 0 in block or 8 in block:\n",
    "            continue\n",
    "        else:\n",
    "            state_value = False\n",
    "            break\n",
    "    return state_value\n",
    "\n",
    "def is_toitoi(split_state):\n",
    "    state_value = True\n",
    "    for block in split_state:\n",
    "        if len(block) == 2: # 雀頭\n",
    "            continue\n",
    "        else:  # 面子\n",
    "            if block[0] != block[1]:\n",
    "                state_value = False\n",
    "                break\n",
    "    return state_value\n",
    "    \n",
    "def is_ipeko(split_state):\n",
    "    for block in split_state:\n",
    "        if len(block) == 2:\n",
    "            continue\n",
    "        if block[0] != block[1]:\n",
    "            temp = list(split_state)\n",
    "            temp.remove(block)\n",
    "            if block in temp:\n",
    "                return True\n",
    "    return False\n",
    "\n",
    "def hist2onehot(hist, kind_tile, NUM_SAME_TILE=4): # 手牌１つをサイズ(kind_tile, NUM_SAME_TILE)の行列にする\n",
    "    matrix = np.zeros(shape=(kind_tile, NUM_SAME_TILE))\n",
    "    for i, num in enumerate(hist):\n",
    "        if num == 0:\n",
    "            continue\n",
    "        else:\n",
    "            matrix[i][:num] = 1\n",
    "    return matrix\n",
    "\n",
    "def hists2onehots(hist_list, kind_tile, NUM_SAME_TILE=4): # 手牌1つ1つをone_hot形式に直す\n",
    "    onehots = np.zeros((len(hist_list), kind_tile, NUM_SAME_TILE))\n",
    "    for i in range(len(hist_list)):\n",
    "        for j, hist_i in enumerate(hist_list[i]):\n",
    "            if hist_i == 0:\n",
    "                continue\n",
    "            else:\n",
    "                onehots[i][j][:hist_i] = 1\n",
    "    return onehots"
   ]
  },
  {
   "cell_type": "markdown",
   "metadata": {
    "colab_type": "text",
    "id": "xhvsLPaPW8YT"
   },
   "source": [
    "### 教師データの作成"
   ]
  },
  {
   "cell_type": "code",
   "execution_count": 5,
   "metadata": {
    "colab": {
     "base_uri": "https://localhost:8080/",
     "height": 725
    },
    "colab_type": "code",
    "id": "SloFByrwWqgy",
    "outputId": "ca314639-8742-4254-d889-8895b78246f7"
   },
   "outputs": [],
   "source": [
    "# データの作成時のみ動かす（サイズが小さい時）\n",
    "kind_tile = 9\n",
    "num_hand = 5\n",
    "NUM_SAME_TILE = 4\n",
    "\n",
    "state_list = generate_all_l(kind_tile, num_hand, NUM_SAME_TILE)\n",
    "state_hist_list = states2hists(state_list, kind_tile)\n",
    "\n",
    "is_win_list = []\n",
    "for state_hist in state_hist_list:\n",
    "    is_win_list.append(win_split_main(state_hist)[0])\n",
    "    \n",
    "np.save('data/state_list_{}_{}'.format(kind_tile, num_hand), np.array(state_list))\n",
    "np.save('data/is_win_list_{}_{}'.format(kind_tile, num_hand), np.array(is_win_list))"
   ]
  },
  {
   "cell_type": "code",
   "execution_count": 28,
   "metadata": {},
   "outputs": [],
   "source": [
    "# データの作成時のみ動かす（サイズが大きい時）\n",
    "NUM_KIND_TILES = 34\n",
    "kind_tile = 34\n",
    "num_hand = 14\n",
    "NUM_SAME_TILE = 4\n",
    "num_states = 1000000 # 教師データのサイズ\n",
    "win_rate = 0.3\n",
    "\n",
    "state_list = []\n",
    "is_win_list = []\n",
    "for i in range(num_states):\n",
    "    if np.random.rand() < win_rate: # あがりの形をtrue_rateの割合で生成\n",
    "        while(True):\n",
    "            state = []\n",
    "            for j in range(4): # 面子を追加\n",
    "                if np.random.rand() < 0.3: # 刻子\n",
    "                    tile = np.random.randint(0, kind_tile)\n",
    "                    for l in range(3):\n",
    "                        state.append(tile)\n",
    "                else:\n",
    "                    while(True):\n",
    "                        tile = np.random.randint(0, min(kind_tile, 25))\n",
    "                        if not tile in (7, 8, 16, 17):\n",
    "                            break\n",
    "                    for l in range(3):\n",
    "                        state.append(tile + l)\n",
    "            tile = np.random.randint(0, kind_tile) # 雀頭\n",
    "            for m in range(2):\n",
    "                state.append(tile)\n",
    "            is_valid = True # 5枚以上同じ牌を使っていないか判定\n",
    "            for tile in state:\n",
    "                if state.count(tile) >= 5:\n",
    "                    is_valid = False\n",
    "                    break\n",
    "            if is_valid:\n",
    "                break\n",
    "    else:\n",
    "        all_tile = np.array([i for i in range(kind_tile) for j in range(NUM_SAME_TILE)])\n",
    "        state = np.random.permutation(all_tile)[:num_hand].tolist()\n",
    "        \n",
    "    # 牌譜から生成するのも案\n",
    "    # 教師データの確率分布が実際の分布と一致するようにするべき（比率の調整は要るだろう）\n",
    "    # これで実際の牌譜で評価するのは？\n",
    "    # ミニ麻雀の強化学習の牌譜を使って\n",
    "    # 13枚の手牌を入力で、各牌があがりかどうかの二値分類で学習（二乗誤差）\n",
    "    \n",
    "    state = tuple(sorted(state))\n",
    "    #print(state)\n",
    "    hist = state2hist_for_win(state, NUM_KIND_TILES)\n",
    "    #print(hist)\n",
    "    state_list.append(state)\n",
    "    is_win_list.append(win_split_main(hist)[0])\n",
    "    #print(win_split_main(hist)[0])\n",
    "    \n",
    "np.save('data/state_list_{}_{}_{}_{}'.format(kind_tile, num_hand, num_states, win_rate), np.array(state_list))\n",
    "np.save('data/is_win_list_{}_{}_{}_{}'.format(kind_tile, num_hand, num_states, win_rate), np.array(is_win_list))"
   ]
  },
  {
   "cell_type": "markdown",
   "metadata": {},
   "source": [
    "0で穴埋めすると実際のサイズより大きくなる\n",
    "\n",
    "m          9 -> 9\n",
    "\n",
    "m, p       18 -> 19\n",
    "\n",
    "m, p, t    25 -> 33\n",
    "\n",
    "m, p, s    27 -> 29\n",
    "\n",
    "m, p, s, t 34 -> 43\n",
    "\n",
    "実際にやるのは萬子のみと全種類くらい？"
   ]
  },
  {
   "cell_type": "markdown",
   "metadata": {},
   "source": [
    "### 教師あり学習"
   ]
  },
  {
   "cell_type": "code",
   "execution_count": 28,
   "metadata": {},
   "outputs": [],
   "source": [
    "from keras import layers\n",
    "from keras import models\n",
    "from keras import optimizers\n",
    "from sklearn.model_selection import train_test_split\n",
    "from keras.models import load_model\n",
    "\n",
    "def dense_train(kind_tile, num_hand, epochs, x_path, y_path):\n",
    "    NUM_SAME_TILE = 4\n",
    "    input_shape = (kind_tile, NUM_SAME_TILE)\n",
    "    \n",
    "    # モデルの定義\n",
    "    model = models.Sequential()\n",
    "    model.add(layers.Flatten(input_shape=input_shape))\n",
    "    model.add(layers.Dense(256, activation='relu'))\n",
    "    model.add(layers.Dense(128, activation='relu'))\n",
    "    model.add(layers.Dense(1, activation='sigmoid'))\n",
    "    model.summary()\n",
    "\n",
    "    # モデルのコンパイル\n",
    "    model.compile(loss='binary_crossentropy',\n",
    "                  optimizer=optimizers.RMSprop(lr=1e-4),\n",
    "                  metrics=['acc'])\n",
    "\n",
    "    x = np.load(x_path)\n",
    "    y = np.load(y_path)\n",
    "    x_hists = states2hists(x, kind_tile)\n",
    "    x_onehots = hists2onehots(x_hists, kind_tile)\n",
    "    x_train, x_test, y_train, y_test = train_test_split(x_onehots, y, test_size=0.3, random_state=random_seed)\n",
    "\n",
    "    history = model.fit(x = x_train,\n",
    "                        y = y_train,\n",
    "                        epochs = epochs,\n",
    "                        validation_data = (x_test, y_test), \n",
    "                       )\n",
    "\n",
    "    # モデルの保存\n",
    "    model.save('models/dense_{}_{}.h5'.format(kind_tile, num_hand))\n",
    "    return history\n",
    "\n",
    "def draw_acc(history):\n",
    "    acc = history.history['acc']\n",
    "    val_acc = history.history['val_acc']\n",
    "    epochs = range(1, len(acc) + 1)\n",
    "\n",
    "    fig = plt.figure()\n",
    "    fig1 = fig.add_subplot(111)\n",
    "    fig1.plot(epochs, acc, 'bo', label='Training acc')\n",
    "    fig1.plot(epochs, val_acc, 'b', label='Validation acc')\n",
    "\n",
    "    fig1.set_xlabel('epochs')\n",
    "    fig1.set_ylabel('accuracy')\n",
    "    fig.legend(bbox_to_anchor=(0., 0.19, 0.86, 0.102), loc=5)# anchor（凡例）の第２引数がx、第３引数がy\n",
    "\n",
    "    fig.savefig('draw_pdf/acc_{}_{}_{}epo.pdf'.format(kind_tile, num_hand, len(acc)))\n",
    "    plt.show()\n",
    "    \n",
    "def draw_loss(history):\n",
    "    loss = history.history['loss']\n",
    "    val_loss = history.history['val_loss']\n",
    "    epochs = range(1, len(loss) + 1)\n",
    "    \n",
    "    fig = plt.figure()\n",
    "    fig1 = fig.add_subplot(111)\n",
    "    fig1.plot(epochs, loss, 'bo', label='Training loss')\n",
    "    fig1.plot(epochs, val_loss, 'b', label='Validation loss')\n",
    "    #fig1.title('Training and validation loss')a\n",
    "\n",
    "    fig1.set_xlabel('epochs')\n",
    "    fig1.set_ylabel('loss')\n",
    "    fig.legend(bbox_to_anchor=(0., 0.73, 0.86, 0.102), loc=5)# anchor（凡例）の第２引数がy、第３引数がx\n",
    "\n",
    "    fig.savefig('draw_pdf/loss_{}_{}_{}epo.pdf'.format(kind_tile, num_hand, len(loss)))\n",
    "    plt.show()"
   ]
  },
  {
   "cell_type": "code",
   "execution_count": 43,
   "metadata": {},
   "outputs": [
    {
     "name": "stdout",
     "output_type": "stream",
     "text": [
      "Model: \"sequential_9\"\n",
      "_________________________________________________________________\n",
      "Layer (type)                 Output Shape              Param #   \n",
      "=================================================================\n",
      "flatten_9 (Flatten)          (None, 136)               0         \n",
      "_________________________________________________________________\n",
      "dense_25 (Dense)             (None, 256)               35072     \n",
      "_________________________________________________________________\n",
      "dense_26 (Dense)             (None, 128)               32896     \n",
      "_________________________________________________________________\n",
      "dense_27 (Dense)             (None, 1)                 129       \n",
      "=================================================================\n",
      "Total params: 68,097\n",
      "Trainable params: 68,097\n",
      "Non-trainable params: 0\n",
      "_________________________________________________________________\n",
      "Train on 70000 samples, validate on 30000 samples\n",
      "Epoch 1/10\n",
      "70000/70000 [==============================] - 7s 95us/step - loss: 0.1417 - acc: 0.9415 - val_loss: 0.0530 - val_acc: 0.9801\n",
      "Epoch 2/10\n",
      "70000/70000 [==============================] - 6s 91us/step - loss: 0.0457 - acc: 0.9831 - val_loss: 0.0408 - val_acc: 0.9861\n",
      "Epoch 3/10\n",
      "70000/70000 [==============================] - 6s 86us/step - loss: 0.0325 - acc: 0.9890 - val_loss: 0.0310 - val_acc: 0.9896\n",
      "Epoch 4/10\n",
      "70000/70000 [==============================] - 8s 114us/step - loss: 0.0234 - acc: 0.9927 - val_loss: 0.0219 - val_acc: 0.9933\n",
      "Epoch 5/10\n",
      "70000/70000 [==============================] - 7s 99us/step - loss: 0.0177 - acc: 0.9950 - val_loss: 0.0184 - val_acc: 0.9944\n",
      "Epoch 6/10\n",
      "70000/70000 [==============================] - 5s 77us/step - loss: 0.0141 - acc: 0.9961 - val_loss: 0.0156 - val_acc: 0.9956\n",
      "Epoch 7/10\n",
      "70000/70000 [==============================] - 5s 78us/step - loss: 0.0119 - acc: 0.9970 - val_loss: 0.0146 - val_acc: 0.9959\n",
      "Epoch 8/10\n",
      "70000/70000 [==============================] - 5s 76us/step - loss: 0.0105 - acc: 0.9973 - val_loss: 0.0138 - val_acc: 0.9958\n",
      "Epoch 9/10\n",
      "70000/70000 [==============================] - 6s 80us/step - loss: 0.0086 - acc: 0.9977 - val_loss: 0.0107 - val_acc: 0.9969\n",
      "Epoch 10/10\n",
      "70000/70000 [==============================] - 5s 75us/step - loss: 0.0073 - acc: 0.9980 - val_loss: 0.0098 - val_acc: 0.9967\n"
     ]
    },
    {
     "data": {
      "image/png": "[encoded data removed]",
      "text/plain": [
       "<Figure size 432x288 with 1 Axes>"
      ]
     },
     "metadata": {
      "needs_background": "light"
     },
     "output_type": "display_data"
    },
    {
     "data": {
      "image/png": "[encoded data removed]",
      "text/plain": [
       "<Figure size 432x288 with 1 Axes>"
      ]
     },
     "metadata": {
      "needs_background": "light"
     },
     "output_type": "display_data"
    }
   ],
   "source": [
    "kind_tile = 34\n",
    "num_hand = 14\n",
    "x_path = 'data/state_list_{}_{}_100000_0.3.npy'.format(kind_tile, num_hand)\n",
    "y_path = 'data/is_win_list_{}_{}_100000_0.3.npy'.format(kind_tile, num_hand)\n",
    "history = dense_train(kind_tile, num_hand, 10, x_path, y_path)\n",
    "draw_acc(history)\n",
    "draw_loss(history)"
   ]
  },
  {
   "cell_type": "code",
   "execution_count": 15,
   "metadata": {},
   "outputs": [
    {
     "name": "stdout",
     "output_type": "stream",
     "text": [
      "Model: \"sequential_7\"\n",
      "_________________________________________________________________\n",
      "Layer (type)                 Output Shape              Param #   \n",
      "=================================================================\n",
      "flatten_7 (Flatten)          (None, 36)                0         \n",
      "_________________________________________________________________\n",
      "dense_19 (Dense)             (None, 256)               9472      \n",
      "_________________________________________________________________\n",
      "dense_20 (Dense)             (None, 128)               32896     \n",
      "_________________________________________________________________\n",
      "dense_21 (Dense)             (None, 1)                 129       \n",
      "=================================================================\n",
      "Total params: 42,497\n",
      "Trainable params: 42,497\n",
      "Non-trainable params: 0\n",
      "_________________________________________________________________\n",
      "Train on 70000 samples, validate on 30000 samples\n",
      "Epoch 1/10\n",
      "70000/70000 [==============================] - 5s 66us/step - loss: 0.4698 - acc: 0.7816 - val_loss: 0.4309 - val_acc: 0.8005\n",
      "Epoch 2/10\n",
      "70000/70000 [==============================] - 5s 73us/step - loss: 0.4076 - acc: 0.8098 - val_loss: 0.3911 - val_acc: 0.8183\n",
      "Epoch 3/10\n",
      "70000/70000 [==============================] - 5s 65us/step - loss: 0.3717 - acc: 0.8274 - val_loss: 0.3573 - val_acc: 0.8349\n",
      "Epoch 4/10\n",
      "70000/70000 [==============================] - 5s 69us/step - loss: 0.3410 - acc: 0.8423 - val_loss: 0.3349 - val_acc: 0.8409\n",
      "Epoch 5/10\n",
      "70000/70000 [==============================] - 5s 67us/step - loss: 0.3160 - acc: 0.8549 - val_loss: 0.3088 - val_acc: 0.8594\n",
      "Epoch 6/10\n",
      "70000/70000 [==============================] - 4s 64us/step - loss: 0.2952 - acc: 0.8667 - val_loss: 0.3037 - val_acc: 0.8659\n",
      "Epoch 7/10\n",
      "70000/70000 [==============================] - 4s 59us/step - loss: 0.2776 - acc: 0.8750 - val_loss: 0.2756 - val_acc: 0.8772\n",
      "Epoch 8/10\n",
      "70000/70000 [==============================] - 4s 63us/step - loss: 0.2626 - acc: 0.8836 - val_loss: 0.2636 - val_acc: 0.8797\n",
      "Epoch 9/10\n",
      "70000/70000 [==============================] - 4s 62us/step - loss: 0.2495 - acc: 0.8908 - val_loss: 0.2503 - val_acc: 0.8900\n",
      "Epoch 10/10\n",
      "70000/70000 [==============================] - 4s 61us/step - loss: 0.2377 - acc: 0.8973 - val_loss: 0.2442 - val_acc: 0.8994\n"
     ]
    },
    {
     "data": {
      "image/png": "[encoded data removed]",
      "text/plain": [
       "<Figure size 432x288 with 1 Axes>"
      ]
     },
     "metadata": {
      "needs_background": "light"
     },
     "output_type": "display_data"
    },
    {
     "data": {
      "image/png": "[encoded data removed]",
      "text/plain": [
       "<Figure size 432x288 with 1 Axes>"
      ]
     },
     "metadata": {
      "needs_background": "light"
     },
     "output_type": "display_data"
    }
   ],
   "source": [
    "kind_tile = 9\n",
    "num_hand = 14\n",
    "x_path = 'data/state_list_{}_{}_100000_0.3.npy'.format(kind_tile, num_hand)\n",
    "y_path = 'data/is_win_list_{}_{}_100000_0.3.npy'.format(kind_tile, num_hand)\n",
    "history = dense_train(kind_tile, num_hand, 10, x_path, y_path)\n",
    "draw_acc(history)\n",
    "draw_loss(history)"
   ]
  },
  {
   "cell_type": "code",
   "execution_count": 16,
   "metadata": {},
   "outputs": [
    {
     "name": "stdout",
     "output_type": "stream",
     "text": [
      "Model: \"sequential_8\"\n",
      "_________________________________________________________________\n",
      "Layer (type)                 Output Shape              Param #   \n",
      "=================================================================\n",
      "flatten_8 (Flatten)          (None, 136)               0         \n",
      "_________________________________________________________________\n",
      "dense_22 (Dense)             (None, 256)               35072     \n",
      "_________________________________________________________________\n",
      "dense_23 (Dense)             (None, 128)               32896     \n",
      "_________________________________________________________________\n",
      "dense_24 (Dense)             (None, 1)                 129       \n",
      "=================================================================\n",
      "Total params: 68,097\n",
      "Trainable params: 68,097\n",
      "Non-trainable params: 0\n",
      "_________________________________________________________________\n",
      "Train on 76484 samples, validate on 32779 samples\n",
      "Epoch 1/10\n",
      "76484/76484 [==============================] - 5s 71us/step - loss: 0.1180 - acc: 0.9761 - val_loss: 0.1132 - val_acc: 0.9757\n",
      "Epoch 2/10\n",
      "76484/76484 [==============================] - 6s 73us/step - loss: 0.1104 - acc: 0.9764 - val_loss: 0.1143 - val_acc: 0.9757\n",
      "Epoch 3/10\n",
      "76484/76484 [==============================] - 5s 72us/step - loss: 0.1100 - acc: 0.9764 - val_loss: 0.1121 - val_acc: 0.9757\n",
      "Epoch 4/10\n",
      "76484/76484 [==============================] - 5s 71us/step - loss: 0.1094 - acc: 0.9764 - val_loss: 0.1134 - val_acc: 0.9757\n",
      "Epoch 5/10\n",
      "76484/76484 [==============================] - 6s 74us/step - loss: 0.1094 - acc: 0.9764 - val_loss: 0.1122 - val_acc: 0.9757\n",
      "Epoch 6/10\n",
      "76484/76484 [==============================] - 6s 78us/step - loss: 0.1089 - acc: 0.9764 - val_loss: 0.1133 - val_acc: 0.9757\n",
      "Epoch 7/10\n",
      "76484/76484 [==============================] - 5s 72us/step - loss: 0.1092 - acc: 0.9764 - val_loss: 0.1134 - val_acc: 0.9757\n",
      "Epoch 8/10\n",
      "76484/76484 [==============================] - 6s 72us/step - loss: 0.1090 - acc: 0.9764 - val_loss: 0.1165 - val_acc: 0.9757\n",
      "Epoch 9/10\n",
      "76484/76484 [==============================] - 6s 78us/step - loss: 0.1090 - acc: 0.9764 - val_loss: 0.1133 - val_acc: 0.9757\n",
      "Epoch 10/10\n",
      "76484/76484 [==============================] - 6s 74us/step - loss: 0.1089 - acc: 0.9764 - val_loss: 0.1146 - val_acc: 0.9757\n"
     ]
    },
    {
     "data": {
      "image/png": "[encoded data removed]",
      "text/plain": [
       "<Figure size 432x288 with 1 Axes>"
      ]
     },
     "metadata": {
      "needs_background": "light"
     },
     "output_type": "display_data"
    },
    {
     "data": {
      "image/png": "[encoded data removed]",
      "text/plain": [
       "<Figure size 432x288 with 1 Axes>"
      ]
     },
     "metadata": {
      "needs_background": "light"
     },
     "output_type": "display_data"
    }
   ],
   "source": [
    "kind_tile = 34\n",
    "num_hand = 14\n",
    "x_path = 'data/state_list_tenho_109263.npy'\n",
    "y_path = 'data/is_win_list_tenho_109263.npy'\n",
    "history = dense_train(kind_tile, num_hand, 10, x_path, y_path)\n",
    "draw_acc(history)\n",
    "draw_loss(history)"
   ]
  },
  {
   "cell_type": "code",
   "execution_count": 29,
   "metadata": {},
   "outputs": [
    {
     "name": "stdout",
     "output_type": "stream",
     "text": [
      "Model: \"sequential_3\"\n",
      "_________________________________________________________________\n",
      "Layer (type)                 Output Shape              Param #   \n",
      "=================================================================\n",
      "flatten_3 (Flatten)          (None, 136)               0         \n",
      "_________________________________________________________________\n",
      "dense_7 (Dense)              (None, 256)               35072     \n",
      "_________________________________________________________________\n",
      "dense_8 (Dense)              (None, 128)               32896     \n",
      "_________________________________________________________________\n",
      "dense_9 (Dense)              (None, 1)                 129       \n",
      "=================================================================\n",
      "Total params: 68,097\n",
      "Trainable params: 68,097\n",
      "Non-trainable params: 0\n",
      "_________________________________________________________________\n",
      "Train on 83374 samples, validate on 35733 samples\n",
      "Epoch 1/10\n",
      "83374/83374 [==============================] - 7s 78us/step - loss: 0.4414 - acc: 0.8081 - val_loss: 0.4113 - val_acc: 0.8097\n",
      "Epoch 2/10\n",
      "83374/83374 [==============================] - 6s 77us/step - loss: 0.3812 - acc: 0.8139 - val_loss: 0.3629 - val_acc: 0.8123\n",
      "Epoch 3/10\n",
      "83374/83374 [==============================] - 6s 71us/step - loss: 0.3325 - acc: 0.8313 - val_loss: 0.3163 - val_acc: 0.8433\n",
      "Epoch 4/10\n",
      "83374/83374 [==============================] - 6s 72us/step - loss: 0.2885 - acc: 0.8592 - val_loss: 0.2762 - val_acc: 0.8684\n",
      "Epoch 5/10\n",
      "83374/83374 [==============================] - 6s 72us/step - loss: 0.2504 - acc: 0.8836 - val_loss: 0.2444 - val_acc: 0.8819\n",
      "Epoch 6/10\n",
      "83374/83374 [==============================] - 6s 71us/step - loss: 0.2177 - acc: 0.9046 - val_loss: 0.2209 - val_acc: 0.8948\n",
      "Epoch 7/10\n",
      "83374/83374 [==============================] - 6s 72us/step - loss: 0.1907 - acc: 0.9209 - val_loss: 0.1950 - val_acc: 0.9188\n",
      "Epoch 8/10\n",
      "83374/83374 [==============================] - 6s 71us/step - loss: 0.1695 - acc: 0.9327 - val_loss: 0.1769 - val_acc: 0.9282\n",
      "Epoch 9/10\n",
      "83374/83374 [==============================] - 6s 76us/step - loss: 0.1517 - acc: 0.9423 - val_loss: 0.1714 - val_acc: 0.9268\n",
      "Epoch 10/10\n",
      "83374/83374 [==============================] - 6s 75us/step - loss: 0.1367 - acc: 0.9500 - val_loss: 0.1496 - val_acc: 0.9422\n"
     ]
    },
    {
     "data": {
      "image/png": "[encoded data removed]",
      "text/plain": [
       "<Figure size 432x288 with 1 Axes>"
      ]
     },
     "metadata": {
      "needs_background": "light"
     },
     "output_type": "display_data"
    },
    {
     "data": {
      "image/png": "[encoded data removed]",
      "text/plain": [
       "<Figure size 432x288 with 1 Axes>"
      ]
     },
     "metadata": {
      "needs_background": "light"
     },
     "output_type": "display_data"
    }
   ],
   "source": [
    "kind_tile = 34\n",
    "num_hand = 14\n",
    "x_path = 'data/state_list_tenho_119107.npy'\n",
    "y_path = 'data/is_win_list_tenho_119107.npy'\n",
    "history = dense_train(kind_tile, num_hand, 10, x_path, y_path)\n",
    "draw_acc(history)\n",
    "draw_loss(history)"
   ]
  },
  {
   "cell_type": "code",
   "execution_count": 31,
   "metadata": {},
   "outputs": [
    {
     "name": "stdout",
     "output_type": "stream",
     "text": [
      "Model: \"sequential_4\"\n",
      "_________________________________________________________________\n",
      "Layer (type)                 Output Shape              Param #   \n",
      "=================================================================\n",
      "flatten_4 (Flatten)          (None, 136)               0         \n",
      "_________________________________________________________________\n",
      "dense_10 (Dense)             (None, 256)               35072     \n",
      "_________________________________________________________________\n",
      "dense_11 (Dense)             (None, 128)               32896     \n",
      "_________________________________________________________________\n",
      "dense_12 (Dense)             (None, 1)                 129       \n",
      "=================================================================\n",
      "Total params: 68,097\n",
      "Trainable params: 68,097\n",
      "Non-trainable params: 0\n",
      "_________________________________________________________________\n",
      "Train on 162508 samples, validate on 69647 samples\n",
      "Epoch 1/10\n",
      "162508/162508 [==============================] - 13s 78us/step - loss: 0.4634 - acc: 0.8119 - val_loss: 0.4480 - val_acc: 0.8130\n",
      "Epoch 2/10\n",
      "162508/162508 [==============================] - 13s 80us/step - loss: 0.4256 - acc: 0.8127 - val_loss: 0.4028 - val_acc: 0.8137\n",
      "Epoch 3/10\n",
      "162508/162508 [==============================] - 13s 78us/step - loss: 0.3712 - acc: 0.8250 - val_loss: 0.3431 - val_acc: 0.8358\n",
      "Epoch 4/10\n",
      "162508/162508 [==============================] - 13s 78us/step - loss: 0.3143 - acc: 0.8578 - val_loss: 0.2935 - val_acc: 0.8652\n",
      "Epoch 5/10\n",
      "162508/162508 [==============================] - 13s 78us/step - loss: 0.2699 - acc: 0.8848 - val_loss: 0.2551 - val_acc: 0.8972\n",
      "Epoch 6/10\n",
      "162508/162508 [==============================] - 13s 80us/step - loss: 0.2375 - acc: 0.9037 - val_loss: 0.2415 - val_acc: 0.9085\n",
      "Epoch 7/10\n",
      "162508/162508 [==============================] - 14s 84us/step - loss: 0.2128 - acc: 0.9168 - val_loss: 0.2052 - val_acc: 0.9239\n",
      "Epoch 8/10\n",
      "162508/162508 [==============================] - 13s 80us/step - loss: 0.1911 - acc: 0.9296 - val_loss: 0.2056 - val_acc: 0.9251\n",
      "Epoch 9/10\n",
      "162508/162508 [==============================] - 13s 81us/step - loss: 0.1727 - acc: 0.9378 - val_loss: 0.1751 - val_acc: 0.9391\n",
      "Epoch 10/10\n",
      "162508/162508 [==============================] - 13s 79us/step - loss: 0.1569 - acc: 0.9462 - val_loss: 0.1761 - val_acc: 0.9375\n"
     ]
    },
    {
     "data": {
      "image/png": "[encoded data removed]",
      "text/plain": [
       "<Figure size 432x288 with 1 Axes>"
      ]
     },
     "metadata": {
      "needs_background": "light"
     },
     "output_type": "display_data"
    },
    {
     "data": {
      "image/png": "[encoded data removed]",
      "text/plain": [
       "<Figure size 432x288 with 1 Axes>"
      ]
     },
     "metadata": {
      "needs_background": "light"
     },
     "output_type": "display_data"
    }
   ],
   "source": [
    "kind_tile = 34\n",
    "num_hand = 14\n",
    "x_path = 'data/state_list_tenho_232155.npy'\n",
    "y_path = 'data/is_win_list_tenho_232155.npy'\n",
    "history = dense_train(kind_tile, num_hand, 10, x_path, y_path)\n",
    "draw_acc(history)\n",
    "draw_loss(history)"
   ]
  },
  {
   "cell_type": "code",
   "execution_count": 44,
   "metadata": {},
   "outputs": [
    {
     "name": "stdout",
     "output_type": "stream",
     "text": [
      "10926/10926 [==============================] - 1s 46us/step\n"
     ]
    },
    {
     "data": {
      "text/plain": [
       "[1.2106214848008945, 0.6280431997071206]"
      ]
     },
     "execution_count": 44,
     "metadata": {},
     "output_type": "execute_result"
    }
   ],
   "source": [
    "model = load_model('models/dense_34_14.h5')\n",
    "kind_tile = 34\n",
    "state_tenho_list = np.load('data/state_list_tenho_109263.npy')\n",
    "is_win_tenho_list = np.load('data/is_win_list_tenho_109263.npy')\n",
    "hists = states2hists(state_tenho_list[:len(state_tenho_list) // 10], kind_tile)\n",
    "onehots = hists2onehots(hists, kind_tile)\n",
    "y = is_win_tenho_list[:len(state_tenho_list) // 10]\n",
    "model.evaluate(x=onehots, y=y)"
   ]
  },
  {
   "cell_type": "code",
   "execution_count": 46,
   "metadata": {},
   "outputs": [
    {
     "name": "stdout",
     "output_type": "stream",
     "text": [
      "10653\n",
      "273\n"
     ]
    }
   ],
   "source": [
    "correct_num = 0\n",
    "incorrect_num = 0\n",
    "for i, p in enumerate(pred):\n",
    "    if (p <= 0.5 and y[i] == False) or (p > 0.5 and y[i]):\n",
    "        correct_num += 1\n",
    "    else:\n",
    "        incorrect_num += 1\n",
    "        #print(p, hists[i])\n",
    "print(correct_num)\n",
    "print(incorrect_num)"
   ]
  },
  {
   "cell_type": "code",
   "execution_count": 49,
   "metadata": {},
   "outputs": [
    {
     "name": "stdout",
     "output_type": "stream",
     "text": [
      "\r",
      "3/3 [==============================] - 0s 58ms/step\n"
     ]
    },
    {
     "data": {
      "text/plain": [
       "[5.21112342931684, 0.3333333333333333]"
      ]
     },
     "execution_count": 49,
     "metadata": {},
     "output_type": "execute_result"
    }
   ],
   "source": [
    "model = load_model('models/dense_34_14.h5')\n",
    "kind_tile = 34\n",
    "state_list = [(0,0,0,1,1,1,2,2,2,3,3,3,4,6), (0,1,2,3,4,6,12,13,14,15,15,15,31,31), (1,1,1,24,24,24,26,26,26,30,30,30,33,33)]\n",
    "is_win_list = [False, False, True]\n",
    "hists = states2hists(state_list, kind_tile)\n",
    "onehots = hists2onehots(hists, kind_tile)\n",
    "model.evaluate(x=onehots, y=is_win_list)"
   ]
  },
  {
   "cell_type": "code",
   "execution_count": null,
   "metadata": {},
   "outputs": [],
   "source": []
  },
  {
   "cell_type": "code",
   "execution_count": null,
   "metadata": {},
   "outputs": [],
   "source": []
  },
  {
   "cell_type": "code",
   "execution_count": null,
   "metadata": {},
   "outputs": [],
   "source": []
  },
  {
   "cell_type": "code",
   "execution_count": null,
   "metadata": {},
   "outputs": [],
   "source": []
  },
  {
   "cell_type": "code",
   "execution_count": null,
   "metadata": {},
   "outputs": [],
   "source": []
  },
  {
   "cell_type": "code",
   "execution_count": null,
   "metadata": {},
   "outputs": [],
   "source": []
  },
  {
   "cell_type": "code",
   "execution_count": null,
   "metadata": {},
   "outputs": [],
   "source": []
  },
  {
   "cell_type": "code",
   "execution_count": null,
   "metadata": {},
   "outputs": [],
   "source": []
  },
  {
   "cell_type": "code",
   "execution_count": null,
   "metadata": {},
   "outputs": [],
   "source": []
  },
  {
   "cell_type": "code",
   "execution_count": null,
   "metadata": {},
   "outputs": [],
   "source": []
  },
  {
   "cell_type": "code",
   "execution_count": 67,
   "metadata": {},
   "outputs": [
    {
     "name": "stdout",
     "output_type": "stream",
     "text": [
      "[[1. 0. 0. 0. 0. 0. 0. 0. 0.]\n",
      " [1. 0. 0. 0. 0. 0. 0. 0. 0.]\n",
      " [1. 0. 0. 0. 0. 0. 0. 0. 0.]\n",
      " [0. 0. 1. 0. 0. 0. 0. 0. 0.]\n",
      " [0. 0. 1. 0. 0. 0. 0. 0. 0.]\n",
      " [0. 0. 0. 1. 0. 0. 0. 0. 0.]\n",
      " [0. 0. 0. 1. 0. 0. 0. 0. 0.]\n",
      " [0. 0. 0. 0. 1. 0. 0. 0. 0.]\n",
      " [0. 0. 0. 0. 1. 0. 0. 0. 0.]\n",
      " [0. 0. 0. 0. 1. 0. 0. 0. 0.]\n",
      " [0. 0. 0. 0. 0. 1. 0. 0. 0.]\n",
      " [0. 0. 0. 0. 0. 0. 1. 0. 0.]\n",
      " [0. 0. 0. 0. 0. 0. 0. 1. 0.]\n",
      " [0. 0. 0. 0. 0. 0. 0. 0. 1.]]\n",
      "[[1. 0. 0. 0. 0. 0. 0. 0. 0.]\n",
      " [1. 0. 0. 0. 0. 0. 0. 0. 0.]\n",
      " [0. 1. 0. 0. 0. 0. 0. 0. 0.]\n",
      " [0. 1. 0. 0. 0. 0. 0. 0. 0.]\n",
      " [0. 0. 1. 0. 0. 0. 0. 0. 0.]\n",
      " [0. 0. 0. 1. 0. 0. 0. 0. 0.]\n",
      " [0. 0. 0. 0. 1. 0. 0. 0. 0.]\n",
      " [0. 0. 0. 0. 1. 0. 0. 0. 0.]\n",
      " [0. 0. 0. 0. 0. 1. 0. 0. 0.]\n",
      " [0. 0. 0. 0. 0. 1. 0. 0. 0.]\n",
      " [0. 0. 0. 0. 0. 1. 0. 0. 0.]\n",
      " [0. 0. 0. 0. 0. 0. 1. 0. 0.]\n",
      " [0. 0. 0. 0. 0. 0. 0. 0. 1.]\n",
      " [0. 0. 0. 0. 0. 0. 0. 0. 1.]]\n",
      "[[1. 0. 0. 0. 0. 0. 0. 0. 0.]\n",
      " [1. 0. 0. 0. 0. 0. 0. 0. 0.]\n",
      " [1. 0. 0. 0. 0. 0. 0. 0. 0.]\n",
      " [0. 0. 0. 1. 0. 0. 0. 0. 0.]\n",
      " [0. 0. 0. 1. 0. 0. 0. 0. 0.]\n",
      " [0. 0. 0. 0. 1. 0. 0. 0. 0.]\n",
      " [0. 0. 0. 0. 0. 1. 0. 0. 0.]\n",
      " [0. 0. 0. 0. 0. 1. 0. 0. 0.]\n",
      " [0. 0. 0. 0. 0. 1. 0. 0. 0.]\n",
      " [0. 0. 0. 0. 0. 0. 1. 0. 0.]\n",
      " [0. 0. 0. 0. 0. 0. 1. 0. 0.]\n",
      " [0. 0. 0. 0. 0. 0. 1. 0. 0.]\n",
      " [0. 0. 0. 0. 0. 0. 0. 1. 0.]\n",
      " [0. 0. 0. 0. 0. 0. 0. 1. 0.]]\n"
     ]
    }
   ],
   "source": [
    "kind_tile = 9\n",
    "num_hand = 14\n",
    "\n",
    "# onehotにする方法\n",
    "x = np.load('data/state_list_9_14_100000_0.3.npy')\n",
    "for i in range(3):\n",
    "    a = np.identity(kind_tile)[x[i]]\n",
    "    print(a)"
   ]
  },
  {
   "cell_type": "code",
   "execution_count": 68,
   "metadata": {},
   "outputs": [
    {
     "data": {
      "text/plain": [
       "array([[[1., 0., 0., ..., 0., 0., 0.],\n",
       "        [1., 0., 0., ..., 0., 0., 0.],\n",
       "        [1., 0., 0., ..., 0., 0., 0.],\n",
       "        ...,\n",
       "        [0., 0., 0., ..., 1., 0., 0.],\n",
       "        [0., 0., 0., ..., 0., 1., 0.],\n",
       "        [0., 0., 0., ..., 0., 0., 1.]],\n",
       "\n",
       "       [[1., 0., 0., ..., 0., 0., 0.],\n",
       "        [1., 0., 0., ..., 0., 0., 0.],\n",
       "        [0., 1., 0., ..., 0., 0., 0.],\n",
       "        ...,\n",
       "        [0., 0., 0., ..., 1., 0., 0.],\n",
       "        [0., 0., 0., ..., 0., 0., 1.],\n",
       "        [0., 0., 0., ..., 0., 0., 1.]],\n",
       "\n",
       "       [[1., 0., 0., ..., 0., 0., 0.],\n",
       "        [1., 0., 0., ..., 0., 0., 0.],\n",
       "        [1., 0., 0., ..., 0., 0., 0.],\n",
       "        ...,\n",
       "        [0., 0., 0., ..., 1., 0., 0.],\n",
       "        [0., 0., 0., ..., 0., 1., 0.],\n",
       "        [0., 0., 0., ..., 0., 1., 0.]],\n",
       "\n",
       "       ...,\n",
       "\n",
       "       [[1., 0., 0., ..., 0., 0., 0.],\n",
       "        [1., 0., 0., ..., 0., 0., 0.],\n",
       "        [0., 0., 1., ..., 0., 0., 0.],\n",
       "        ...,\n",
       "        [0., 0., 0., ..., 0., 1., 0.],\n",
       "        [0., 0., 0., ..., 0., 1., 0.],\n",
       "        [0., 0., 0., ..., 0., 0., 1.]],\n",
       "\n",
       "       [[0., 1., 0., ..., 0., 0., 0.],\n",
       "        [0., 0., 1., ..., 0., 0., 0.],\n",
       "        [0., 0., 1., ..., 0., 0., 0.],\n",
       "        ...,\n",
       "        [0., 0., 0., ..., 1., 0., 0.],\n",
       "        [0., 0., 0., ..., 1., 0., 0.],\n",
       "        [0., 0., 0., ..., 1., 0., 0.]],\n",
       "\n",
       "       [[1., 0., 0., ..., 0., 0., 0.],\n",
       "        [1., 0., 0., ..., 0., 0., 0.],\n",
       "        [0., 1., 0., ..., 0., 0., 0.],\n",
       "        ...,\n",
       "        [0., 0., 0., ..., 0., 1., 0.],\n",
       "        [0., 0., 0., ..., 0., 1., 0.],\n",
       "        [0., 0., 0., ..., 0., 0., 1.]]])"
      ]
     },
     "execution_count": 68,
     "metadata": {},
     "output_type": "execute_result"
    }
   ],
   "source": [
    "a = np.identity(kind_tile)[x]\n",
    "a"
   ]
  },
  {
   "cell_type": "code",
   "execution_count": 10,
   "metadata": {},
   "outputs": [],
   "source": [
    "tenho_list = np.load('data/state_list_tenho_109263.npy')"
   ]
  },
  {
   "cell_type": "code",
   "execution_count": 11,
   "metadata": {},
   "outputs": [],
   "source": [
    "is_win_list = []\n",
    "kind_tile = 34\n",
    "for state in tenho_list:\n",
    "    val = win_split_main(state2hist(state, kind_tile))[0]\n",
    "    is_win_list.append(val)"
   ]
  },
  {
   "cell_type": "code",
   "execution_count": 12,
   "metadata": {},
   "outputs": [
    {
     "data": {
      "text/plain": [
       "2603"
      ]
     },
     "execution_count": 12,
     "metadata": {},
     "output_type": "execute_result"
    }
   ],
   "source": [
    "sum(is_win_list)"
   ]
  },
  {
   "cell_type": "code",
   "execution_count": 13,
   "metadata": {},
   "outputs": [
    {
     "data": {
      "text/plain": [
       "0.02382325215306188"
      ]
     },
     "execution_count": 13,
     "metadata": {},
     "output_type": "execute_result"
    }
   ],
   "source": [
    "sum(is_win_list) / len(is_win_list)"
   ]
  },
  {
   "cell_type": "code",
   "execution_count": 14,
   "metadata": {},
   "outputs": [],
   "source": [
    "np.save('data/is_win_list_tenho_109263', is_win_list)"
   ]
  },
  {
   "cell_type": "code",
   "execution_count": 17,
   "metadata": {},
   "outputs": [],
   "source": [
    "def state_list2is_win_list(num):\n",
    "    tenho_list = np.load('data/state_list_tenho_{}.npy'.format(num))\n",
    "    is_win_list = []\n",
    "    kind_tile = 34\n",
    "    for state in tenho_list:\n",
    "        val = win_split_main(state2hist(state, kind_tile))[0]\n",
    "        is_win_list.append(val)\n",
    "    print('number of True', sum(is_win_list))\n",
    "    print('rate of True', sum(is_win_list) / len(is_win_list))\n",
    "    np.save('data/is_win_list_tenho_{}.npy'.format(num), is_win_list)"
   ]
  },
  {
   "cell_type": "code",
   "execution_count": 18,
   "metadata": {},
   "outputs": [
    {
     "name": "stdout",
     "output_type": "stream",
     "text": [
      "number of True 2603\n",
      "rate of True 0.02382325215306188\n"
     ]
    }
   ],
   "source": [
    "state_list2is_win_list(109263)"
   ]
  },
  {
   "cell_type": "code",
   "execution_count": 21,
   "metadata": {},
   "outputs": [
    {
     "name": "stdout",
     "output_type": "stream",
     "text": [
      "number of True 22818\n",
      "rate of True 0.19157564206973562\n"
     ]
    }
   ],
   "source": [
    "state_list2is_win_list(119107)"
   ]
  },
  {
   "cell_type": "code",
   "execution_count": 30,
   "metadata": {},
   "outputs": [
    {
     "name": "stdout",
     "output_type": "stream",
     "text": [
      "number of True 43488\n",
      "rate of True 0.18732312463655748\n"
     ]
    }
   ],
   "source": [
    "state_list2is_win_list(232155)"
   ]
  },
  {
   "cell_type": "code",
   "execution_count": null,
   "metadata": {},
   "outputs": [],
   "source": []
  }
 ],
 "metadata": {
  "accelerator": "GPU",
  "colab": {
   "collapsed_sections": [],
   "name": "mini_mahjong_PNplot_split_optuna.ipynb",
   "provenance": [],
   "version": "0.3.2"
  },
  "kernelspec": {
   "display_name": "Python 3",
   "language": "python",
   "name": "python3"
  },
  "language_info": {
   "codemirror_mode": {
    "name": "ipython",
    "version": 3
   },
   "file_extension": ".py",
   "mimetype": "text/x-python",
   "name": "python",
   "nbconvert_exporter": "python",
   "pygments_lexer": "ipython3",
   "version": "3.7.3"
  },
  "toc": {
   "base_numbering": 1,
   "nav_menu": {},
   "number_sections": true,
   "sideBar": true,
   "skip_h1_title": false,
   "title_cell": "Table of Contents",
   "title_sidebar": "Contents",
   "toc_cell": false,
   "toc_position": {},
   "toc_section_display": true,
   "toc_window_display": false
  }
 },
 "nbformat": 4,
 "nbformat_minor": 1
}
