{
 "cells": [
  {
   "cell_type": "markdown",
   "metadata": {
    "colab_type": "text",
    "id": "tkLa-ZvjEvPc"
   },
   "source": [
    " **変数の意味**\n",
    "\n",
    "- state : あがりに必要な枚数の手牌の状態\n",
    "\n",
    "- hand : stateから一枚切った状態\n",
    "\n",
    "- hist : stateやhandをヒストグラムで表したもの（長さが牌種のリスト）\n",
    "\n",
    "- kind_tile : 用いる牌の種類数\n",
    "\n",
    "- num_hand : 手牌の枚数\n",
    "\n",
    "- NUM_SANE_TILE : 同一牌の枚数(基本的に4で固定)\n",
    "\n",
    "\n",
    "0=1m, 1=2m, ... , 7=8m, 8=9m, 9=1p, 10=2p, ... ,16=8p, 17=9p, 18=1s, 19=2s, ... ,25=8s, 26=9s, 27=東, ... , 33=中"
   ]
  },
  {
   "cell_type": "code",
   "execution_count": 1,
   "metadata": {},
   "outputs": [],
   "source": [
    "from collections import defaultdict\n",
    "import itertools\n",
    "import numpy as np\n",
    "import pandas as pd\n",
    "import matplotlib.pyplot as plt\n",
    "import random\n",
    "from sklearn.model_selection import train_test_split\n",
    "import time\n",
    "\n",
    "random_seed = 0\n",
    "np.random.seed(random_seed)"
   ]
  },
  {
   "cell_type": "markdown",
   "metadata": {
    "colab_type": "text",
    "id": "JiMFUnpH-fQ5"
   },
   "source": [
    "### 必要な関数の再定義"
   ]
  },
  {
   "cell_type": "code",
   "execution_count": 2,
   "metadata": {
    "colab": {},
    "colab_type": "code",
    "id": "CwuINT6T-fQ6"
   },
   "outputs": [],
   "source": [
    "def is_valid(seq, NUM_SAME_TILE=4): # 生成された組み合わせが手牌として妥当かどうかを判断する関数　tuple(seq)の一つ一つが一つの状態(手牌)に対応している\n",
    "    counts = defaultdict(lambda: 0)\n",
    "    for i in range(0, len(seq)):\n",
    "        if i + 1 < len(seq) and seq[i] > seq[i + 1]: # 前半の条件はiが一番最後以外は常に成立、後半の条件は昇順に整列するための条件\n",
    "            return False\n",
    "        counts[seq[i]] += 1\n",
    "        if (counts[seq[i]] > NUM_SAME_TILE): return False # 牌の上限枚数を超えたらFalse\n",
    "    return True\n",
    "    \n",
    "def generate_all_l(kind_tile, num_hand, NUM_SAME_TILE=4): # 全ての手牌の組み合わせをタプルで出力する関数\n",
    "    gen_list = []\n",
    "    for seq in itertools.product(range(kind_tile), repeat=num_hand):\n",
    "        if is_valid(seq, NUM_SAME_TILE):\n",
    "            gen_list.append(seq)\n",
    "    return gen_list\n",
    "\n",
    "def state2hist(state, kind_tile): # 手牌(state)を、牌種ごとの枚数のリスト(長さkind_tile)に変換する関数\n",
    "    hist = [0] * kind_tile # hist = [0,0,...,0]\n",
    "    for tile in state:\n",
    "        hist[tile] += 1\n",
    "    return hist\n",
    "\n",
    "def states2hists(state_list, kind_tile): # 手牌(state)のリストを、牌種ごとの枚数のリストに変換する関数\n",
    "    hist_list = []\n",
    "    for state in state_list:\n",
    "        #print(state)\n",
    "        hist = [0] * kind_tile # hist = [0,0,...,0]\n",
    "        for tile in state:\n",
    "            hist[tile] += 1\n",
    "        hist_list.append(hist)\n",
    "    return hist_list\n",
    "\n",
    "def state2hist_for_win(state, NUM_KIND_TILES=34): # あがり判定のために牌種の間には0を入れたhistを生成する関数\n",
    "    hist = [0] * (NUM_KIND_TILES + 9) # hist = [0,0,...,0]\n",
    "    for tile in state:\n",
    "        if tile <= 8: # 萬子\n",
    "            hist[tile] += 1\n",
    "        elif tile <= 17: # 筒子\n",
    "            hist[tile + 1] += 1\n",
    "        elif tile <= 26: # 索子\n",
    "            hist[tile + 2] += 1\n",
    "        else: # 字牌\n",
    "            hist[30 + (tile - 27) * 2] += 1\n",
    "    return hist\n",
    "\n",
    "def win_split_sub(hist, two, three, split_state, agari_list):\n",
    "    if any(x < 0 for x in hist):\n",
    "        return\n",
    "    if two == 0 and three == 0:\n",
    "        agari_list.append(tuple(split_state))\n",
    "        return\n",
    "    i = next(i for i, x in enumerate(hist) if x > 0) # histの中でx>０を満たす最小のindexを持ってくる\n",
    "    next_hist = [x - 2 if i == j else x for j, x in enumerate(hist)]\n",
    "    if two > 0 and hist[i] == 2: # 雀頭\n",
    "        win_split_sub(next_hist, two - 1, three, split_state + [(i, i)], agari_list)\n",
    "    next_hist = [x - 3 if i == j else x for j, x in enumerate(hist)]\n",
    "    if three > 0 and hist[i] == 3: # 刻子\n",
    "        win_split_sub(next_hist, two, three - 1, split_state + [(i, i, i)], agari_list)\n",
    "    next_hist = [x -1 if i <= j <= i + 2 else x for j, x in enumerate(hist)]\n",
    "    if three > 0 and i + 2 < len(hist): # 順子\n",
    "        win_split_sub(next_hist, two, three - 1, split_state + [(i, i+1, i+2)], agari_list)\n",
    "    return \n",
    "    \n",
    "def win_split_main(hist): # あがり判定\n",
    "    n_two = 1 if sum(hist) % 3 == 2 else 0\n",
    "    n_three = sum(hist) // 3\n",
    "    agari_list = []\n",
    "    win_split_sub(hist, n_two, n_three, [], agari_list)\n",
    "    if len(agari_list) == 0:\n",
    "        return (False, set())\n",
    "    else:\n",
    "        return (True, agari_list)\n",
    "\n",
    "def is_tanyao(state):\n",
    "    for hai in state:\n",
    "        if hai == 0 or hai == 8:\n",
    "            return False\n",
    "    return True\n",
    "\n",
    "def is_chanta(split_state):\n",
    "    state_value = True\n",
    "    for block in split_state:\n",
    "        if 0 in block or 8 in block:\n",
    "            continue\n",
    "        else:\n",
    "            state_value = False\n",
    "            break\n",
    "    return state_value\n",
    "\n",
    "def is_toitoi(split_state):\n",
    "    state_value = True\n",
    "    for block in split_state:\n",
    "        if len(block) == 2: # 雀頭\n",
    "            continue\n",
    "        else:  # 面子\n",
    "            if block[0] != block[1]:\n",
    "                state_value = False\n",
    "                break\n",
    "    return state_value\n",
    "    \n",
    "def is_ipeko(split_state):\n",
    "    for block in split_state:\n",
    "        if len(block) == 2:\n",
    "            continue\n",
    "        if block[0] != block[1]:\n",
    "            temp = list(split_state)\n",
    "            temp.remove(block)\n",
    "            if block in temp:\n",
    "                return True\n",
    "    return False\n",
    "\n",
    "def hist2onehot(hist, kind_tile, NUM_SAME_TILE=4): # 手牌１つをサイズ(kind_tile, NUM_SAME_TILE)の行列にする\n",
    "    matrix = np.zeros(shape=(kind_tile, NUM_SAME_TILE))\n",
    "    for i, num in enumerate(hist):\n",
    "        if num == 0:\n",
    "            continue\n",
    "        else:\n",
    "            matrix[i][:num] = 1\n",
    "    return matrix\n",
    "\n",
    "def hists2onehots(hist_list, kind_tile, NUM_SAME_TILE=4): # 手牌1つ1つをone_hot形式に直す\n",
    "    onehots = np.zeros((len(hist_list), kind_tile, NUM_SAME_TILE))\n",
    "    for i in range(len(hist_list)):\n",
    "        for j, hist_i in enumerate(hist_list[i]):\n",
    "            if hist_i == 0:\n",
    "                continue\n",
    "            else:\n",
    "                onehots[i][j][:hist_i] = 1\n",
    "    return onehots"
   ]
  },
  {
   "cell_type": "markdown",
   "metadata": {
    "colab_type": "text",
    "id": "xhvsLPaPW8YT"
   },
   "source": [
    "### 教師データの作成"
   ]
  },
  {
   "cell_type": "code",
   "execution_count": 5,
   "metadata": {
    "colab": {
     "base_uri": "https://localhost:8080/",
     "height": 725
    },
    "colab_type": "code",
    "id": "SloFByrwWqgy",
    "outputId": "ca314639-8742-4254-d889-8895b78246f7"
   },
   "outputs": [],
   "source": [
    "# データの作成時のみ動かす（サイズが小さい時）\n",
    "kind_tile = 9\n",
    "num_hand = 5\n",
    "NUM_SAME_TILE = 4\n",
    "\n",
    "state_list = generate_all_l(kind_tile, num_hand, NUM_SAME_TILE)\n",
    "state_hist_list = states2hists(state_list, kind_tile)\n",
    "\n",
    "is_win_list = []\n",
    "for state_hist in state_hist_list:\n",
    "    is_win_list.append(win_split_main(state_hist)[0])\n",
    "    \n",
    "np.save('data/state_list_{}_{}'.format(kind_tile, num_hand), np.array(state_list))\n",
    "np.save('data/is_win_list_{}_{}'.format(kind_tile, num_hand), np.array(is_win_list))"
   ]
  },
  {
   "cell_type": "code",
   "execution_count": 28,
   "metadata": {},
   "outputs": [],
   "source": [
    "# データの作成時のみ動かす（サイズが大きい時）\n",
    "NUM_KIND_TILES = 34\n",
    "kind_tile = 34\n",
    "num_hand = 14\n",
    "NUM_SAME_TILE = 4\n",
    "num_states = 1000000 # 教師データのサイズ\n",
    "win_rate = 0.3\n",
    "\n",
    "state_list = []\n",
    "is_win_list = []\n",
    "for i in range(num_states):\n",
    "    if np.random.rand() < win_rate: # あがりの形をtrue_rateの割合で生成\n",
    "        while(True):\n",
    "            state = []\n",
    "            for j in range(4): # 面子を追加\n",
    "                if np.random.rand() < 0.3: # 刻子\n",
    "                    tile = np.random.randint(0, kind_tile)\n",
    "                    for l in range(3):\n",
    "                        state.append(tile)\n",
    "                else:\n",
    "                    while(True):\n",
    "                        tile = np.random.randint(0, min(kind_tile, 25))\n",
    "                        if not tile in (7, 8, 16, 17):\n",
    "                            break\n",
    "                    for l in range(3):\n",
    "                        state.append(tile + l)\n",
    "            tile = np.random.randint(0, kind_tile) # 雀頭\n",
    "            for m in range(2):\n",
    "                state.append(tile)\n",
    "            is_valid = True # 5枚以上同じ牌を使っていないか判定\n",
    "            for tile in state:\n",
    "                if state.count(tile) >= 5:\n",
    "                    is_valid = False\n",
    "                    break\n",
    "            if is_valid:\n",
    "                break\n",
    "    else:\n",
    "        all_tile = np.array([i for i in range(kind_tile) for j in range(NUM_SAME_TILE)])\n",
    "        state = np.random.permutation(all_tile)[:num_hand].tolist()\n",
    "        \n",
    "    # 牌譜から生成するのも案\n",
    "    # 教師データの確率分布が実際の分布と一致するようにするべき（比率の調整は要るだろう）\n",
    "    # これで実際の牌譜で評価するのは？\n",
    "    # ミニ麻雀の強化学習の牌譜を使って\n",
    "    # 13枚の手牌を入力で、各牌があがりかどうかの二値分類で学習（二乗誤差）\n",
    "    \n",
    "    state = tuple(sorted(state))\n",
    "    #print(state)\n",
    "    hist = state2hist_for_win(state, NUM_KIND_TILES)\n",
    "    #print(hist)\n",
    "    state_list.append(state)\n",
    "    is_win_list.append(win_split_main(hist)[0])\n",
    "    #print(win_split_main(hist)[0])\n",
    "    \n",
    "np.save('data/state_list_{}_{}_{}_{}'.format(kind_tile, num_hand, num_states, win_rate), np.array(state_list))\n",
    "np.save('data/is_win_list_{}_{}_{}_{}'.format(kind_tile, num_hand, num_states, win_rate), np.array(is_win_list))"
   ]
  },
  {
   "cell_type": "code",
   "execution_count": 24,
   "metadata": {},
   "outputs": [
    {
     "name": "stdout",
     "output_type": "stream",
     "text": [
      "(0, 3, 7, 7, 11, 15, 18, 19, 20, 22, 24, 26, 27, 28) False\n",
      "(3, 4, 4, 11, 15, 16, 17, 17, 19, 20, 20, 21, 32, 33) False\n",
      "(4, 5, 8, 9, 10, 11, 11, 17, 18, 23, 29, 29, 31, 31) False\n",
      "(2, 3, 4, 7, 11, 14, 16, 22, 26, 26, 27, 28, 29, 32) False\n",
      "(2, 4, 5, 6, 17, 18, 20, 23, 23, 25, 27, 29, 30, 32) False\n",
      "(1, 1, 12, 16, 17, 20, 22, 22, 24, 28, 28, 29, 30, 30) False\n",
      "(1, 3, 5, 6, 7, 17, 20, 23, 24, 25, 28, 28, 28, 29) False\n",
      "(10, 13, 14, 19, 19, 22, 24, 24, 26, 26, 29, 30, 31, 33) False\n",
      "(2, 4, 7, 7, 8, 9, 16, 17, 17, 19, 20, 26, 31, 33) False\n",
      "(2, 2, 9, 9, 10, 12, 13, 14, 16, 22, 25, 29, 30, 31) False\n"
     ]
    }
   ],
   "source": [
    "for i in range(len(state_list)):\n",
    "    print(state_list[i], is_win_list[i])"
   ]
  },
  {
   "cell_type": "markdown",
   "metadata": {},
   "source": [
    "0で穴埋めすると実際のサイズより大きくなる\n",
    "\n",
    "m          9 -> 9\n",
    "\n",
    "m, p       18 -> 19\n",
    "\n",
    "m, p, t    25 -> 33\n",
    "\n",
    "m, p, s    27 -> 29\n",
    "\n",
    "m, p, s, t 34 -> 43\n",
    "\n",
    "実際にやるのは萬子のみと全種類くらい？"
   ]
  },
  {
   "cell_type": "markdown",
   "metadata": {},
   "source": [
    "### 教師あり学習"
   ]
  },
  {
   "cell_type": "code",
   "execution_count": 21,
   "metadata": {},
   "outputs": [],
   "source": [
    "from tensorflow.python.keras import layers\n",
    "from tensorflow.python.keras import models\n",
    "from tensorflow.python.keras import optimizers\n",
    "from sklearn.model_selection import train_test_split\n",
    "\n",
    "def dense_train(kind_tile, num_hand, epochs, x_path, y_path):\n",
    "    # \n",
    "    NUM_SAME_TILE = 4\n",
    "    input_shape = (kind_tile, NUM_SAME_TILE)\n",
    "    \n",
    "    # モデルの定義\n",
    "    model = models.Sequential()\n",
    "    model.add(layers.InputLayer(input_shape=input_shape))\n",
    "    model.add(layers.Flatten())\n",
    "    model.add(layers.Dense(256, activation='relu'))\n",
    "    model.add(layers.Dense(128, activation='relu'))\n",
    "    model.add(layers.Dense(1, activation='sigmoid'))\n",
    "    model.summary()\n",
    "\n",
    "    # モデルのコンパイル\n",
    "    model.compile(loss='binary_crossentropy',\n",
    "                  optimizer=optimizers.RMSprop(lr=1e-4),\n",
    "                  metrics=['acc'])\n",
    "\n",
    "    x = np.load(x_path)\n",
    "    y = np.load(y_path)\n",
    "    x_hists = states2hists(x, kind_tile)\n",
    "    x_onehots = hists2onehots(x_hists, kind_tile)\n",
    "    x_train, x_test, y_train, y_test = train_test_split(x_onehots, y, test_size=0.3, random_state=random_seed)\n",
    "\n",
    "    history = model.fit(x = x_train,\n",
    "                        y = y_train,\n",
    "                        epochs = epochs,\n",
    "                        validation_data = (x_test, y_test), \n",
    "                       )\n",
    "\n",
    "    # モデルの保存\n",
    "    model.save('models/dense_{}_{}.h5'.format(kind_tile, num_hand))\n",
    "    return history\n",
    "\n",
    "def draw_acc(history):\n",
    "    acc = history.history['acc']\n",
    "    val_acc = history.history['val_acc']\n",
    "    epochs = range(1, len(acc) + 1)\n",
    "\n",
    "    fig = plt.figure()\n",
    "    fig1 = fig.add_subplot(111)\n",
    "    fig1.plot(epochs, acc, 'bo', label='Training acc')\n",
    "    fig1.plot(epochs, val_acc, 'b', label='Validation acc')\n",
    "\n",
    "    fig1.set_xlabel('epochs')\n",
    "    fig1.set_ylabel('accuracy')\n",
    "    fig.legend(bbox_to_anchor=(0., 0.19, 0.86, 0.102), loc=5)# anchor（凡例）の第２引数がx、第３引数がy\n",
    "\n",
    "    fig.savefig('draw_pdf/acc_{}_{}_{}epo.pdf'.format(kind_tile, num_hand, len(acc)))\n",
    "    plt.show()\n",
    "    \n",
    "def draw_loss(history):\n",
    "    loss = history.history['loss']\n",
    "    val_loss = history.history['val_loss']\n",
    "    epochs = range(1, len(loss) + 1)\n",
    "    \n",
    "    fig = plt.figure()\n",
    "    fig1 = fig.add_subplot(111)\n",
    "    fig1.plot(epochs, loss, 'bo', label='Training loss')\n",
    "    fig1.plot(epochs, val_loss, 'b', label='Validation loss')\n",
    "    #fig1.title('Training and validation loss')a\n",
    "\n",
    "    fig1.set_xlabel('epochs')\n",
    "    fig1.set_ylabel('loss')\n",
    "    fig.legend(bbox_to_anchor=(0., 0.73, 0.86, 0.102), loc=5)# anchor（凡例）の第２引数がy、第３引数がx\n",
    "\n",
    "    fig.savefig('draw_pdf/loss_{}_{}_{}epo.pdf'.format(kind_tile, num_hand, len(loss)))\n",
    "    plt.show()"
   ]
  },
  {
   "cell_type": "code",
   "execution_count": 22,
   "metadata": {},
   "outputs": [
    {
     "name": "stdout",
     "output_type": "stream",
     "text": [
      "Model: \"sequential_12\"\n",
      "_________________________________________________________________\n",
      "Layer (type)                 Output Shape              Param #   \n",
      "=================================================================\n",
      "flatten_12 (Flatten)         (None, 136)               0         \n",
      "_________________________________________________________________\n",
      "dense_36 (Dense)             (None, 256)               35072     \n",
      "_________________________________________________________________\n",
      "dense_37 (Dense)             (None, 128)               32896     \n",
      "_________________________________________________________________\n",
      "dense_38 (Dense)             (None, 1)                 129       \n",
      "=================================================================\n",
      "Total params: 68,097\n",
      "Trainable params: 68,097\n",
      "Non-trainable params: 0\n",
      "_________________________________________________________________\n",
      "Train on 70000 samples, validate on 30000 samples\n",
      "Epoch 1/10\n",
      "70000/70000 [==============================] - 6s 90us/sample - loss: 0.1421 - acc: 0.9422 - val_loss: 0.0523 - val_acc: 0.9807\n",
      "Epoch 2/10\n",
      "70000/70000 [==============================] - 6s 83us/sample - loss: 0.0442 - acc: 0.9840 - val_loss: 0.0362 - val_acc: 0.9876\n",
      "Epoch 3/10\n",
      "70000/70000 [==============================] - 6s 83us/sample - loss: 0.0308 - acc: 0.9898 - val_loss: 0.0271 - val_acc: 0.9914\n",
      "Epoch 4/10\n",
      "70000/70000 [==============================] - 6s 90us/sample - loss: 0.0221 - acc: 0.9933 - val_loss: 0.0211 - val_acc: 0.9936\n",
      "Epoch 5/10\n",
      "70000/70000 [==============================] - 6s 83us/sample - loss: 0.0170 - acc: 0.9951 - val_loss: 0.0184 - val_acc: 0.9944\n",
      "Epoch 6/10\n",
      "70000/70000 [==============================] - 6s 83us/sample - loss: 0.0139 - acc: 0.9962 - val_loss: 0.0170 - val_acc: 0.9945\n",
      "Epoch 7/10\n",
      "70000/70000 [==============================] - 6s 91us/sample - loss: 0.0116 - acc: 0.9969 - val_loss: 0.0135 - val_acc: 0.9959\n",
      "Epoch 8/10\n",
      "70000/70000 [==============================] - 6s 92us/sample - loss: 0.0099 - acc: 0.9973 - val_loss: 0.0112 - val_acc: 0.9967\n",
      "Epoch 9/10\n",
      "70000/70000 [==============================] - 7s 97us/sample - loss: 0.0082 - acc: 0.9978 - val_loss: 0.0102 - val_acc: 0.9970\n",
      "Epoch 10/10\n",
      "70000/70000 [==============================] - 7s 105us/sample - loss: 0.0070 - acc: 0.9981 - val_loss: 0.0087 - val_acc: 0.9980\n"
     ]
    },
    {
     "data": {
      "image/png": "[encoded data removed]",
      "text/plain": [
       "<Figure size 432x288 with 1 Axes>"
      ]
     },
     "metadata": {
      "needs_background": "light"
     },
     "output_type": "display_data"
    },
    {
     "data": {
      "image/png": "[encoded data removed]",
      "text/plain": [
       "<Figure size 432x288 with 1 Axes>"
      ]
     },
     "metadata": {
      "needs_background": "light"
     },
     "output_type": "display_data"
    }
   ],
   "source": [
    "kind_tile = 34\n",
    "num_hand = 14\n",
    "x_path = 'data/state_list_{}_{}_100000_0.3.npy'.format(kind_tile, num_hand)\n",
    "y_path = 'data/is_win_list_{}_{}_100000_0.3.npy'.format(kind_tile, num_hand)\n",
    "history = dense_train(kind_tile, num_hand, 10, x_path, y_path)\n",
    "draw_acc(history)\n",
    "draw_loss(history)"
   ]
  },
  {
   "cell_type": "code",
   "execution_count": 23,
   "metadata": {},
   "outputs": [
    {
     "name": "stdout",
     "output_type": "stream",
     "text": [
      "Model: \"sequential_13\"\n",
      "_________________________________________________________________\n",
      "Layer (type)                 Output Shape              Param #   \n",
      "=================================================================\n",
      "flatten_13 (Flatten)         (None, 36)                0         \n",
      "_________________________________________________________________\n",
      "dense_39 (Dense)             (None, 256)               9472      \n",
      "_________________________________________________________________\n",
      "dense_40 (Dense)             (None, 128)               32896     \n",
      "_________________________________________________________________\n",
      "dense_41 (Dense)             (None, 1)                 129       \n",
      "=================================================================\n",
      "Total params: 42,497\n",
      "Trainable params: 42,497\n",
      "Non-trainable params: 0\n",
      "_________________________________________________________________\n",
      "Train on 70000 samples, validate on 30000 samples\n",
      "Epoch 1/10\n",
      "70000/70000 [==============================] - 5s 75us/sample - loss: 0.4724 - acc: 0.7756 - val_loss: 0.4273 - val_acc: 0.8022\n",
      "Epoch 2/10\n",
      "70000/70000 [==============================] - 5s 71us/sample - loss: 0.4071 - acc: 0.8103 - val_loss: 0.3914 - val_acc: 0.8208\n",
      "Epoch 3/10\n",
      "70000/70000 [==============================] - 5s 72us/sample - loss: 0.3710 - acc: 0.8293 - val_loss: 0.3567 - val_acc: 0.8337\n",
      "Epoch 4/10\n",
      "70000/70000 [==============================] - 5s 71us/sample - loss: 0.3389 - acc: 0.8461 - val_loss: 0.3271 - val_acc: 0.8474\n",
      "Epoch 5/10\n",
      "70000/70000 [==============================] - 5s 72us/sample - loss: 0.3118 - acc: 0.8601 - val_loss: 0.3068 - val_acc: 0.8572\n",
      "Epoch 6/10\n",
      "70000/70000 [==============================] - 5s 71us/sample - loss: 0.2899 - acc: 0.8715 - val_loss: 0.2835 - val_acc: 0.8737\n",
      "Epoch 7/10\n",
      "70000/70000 [==============================] - 5s 71us/sample - loss: 0.2717 - acc: 0.8806 - val_loss: 0.2667 - val_acc: 0.8841\n",
      "Epoch 8/10\n",
      "70000/70000 [==============================] - 5s 72us/sample - loss: 0.2557 - acc: 0.8893 - val_loss: 0.2646 - val_acc: 0.8778\n",
      "Epoch 9/10\n",
      "70000/70000 [==============================] - 6s 83us/sample - loss: 0.2416 - acc: 0.8976 - val_loss: 0.2412 - val_acc: 0.8962\n",
      "Epoch 10/10\n",
      "70000/70000 [==============================] - 5s 69us/sample - loss: 0.2290 - acc: 0.9045 - val_loss: 0.2283 - val_acc: 0.9032\n"
     ]
    },
    {
     "data": {
      "image/png": "[encoded data removed]",
      "text/plain": [
       "<Figure size 432x288 with 1 Axes>"
      ]
     },
     "metadata": {
      "needs_background": "light"
     },
     "output_type": "display_data"
    },
    {
     "data": {
      "image/png": "[encoded data removed]",
      "text/plain": [
       "<Figure size 432x288 with 1 Axes>"
      ]
     },
     "metadata": {
      "needs_background": "light"
     },
     "output_type": "display_data"
    }
   ],
   "source": [
    "kind_tile = 9\n",
    "num_hand = 14\n",
    "x_path = 'data/state_list_{}_{}_100000_0.3.npy'.format(kind_tile, num_hand)\n",
    "y_path = 'data/is_win_list_{}_{}_100000_0.3.npy'.format(kind_tile, num_hand)\n",
    "history = dense_train(kind_tile, num_hand, 10, x_path, y_path)\n",
    "draw_acc(history)\n",
    "draw_loss(history)"
   ]
  },
  {
   "cell_type": "code",
   "execution_count": 120,
   "metadata": {},
   "outputs": [
    {
     "data": {
      "text/plain": [
       "array([[0.95466336],\n",
       "       [0.99951955],\n",
       "       [0.99566901],\n",
       "       [0.98965103]])"
      ]
     },
     "execution_count": 120,
     "metadata": {},
     "output_type": "execute_result"
    }
   ],
   "source": [
    "states = [(0, 1, 3, 4, 5, 6, 7, 8, 9, 10, 11, 12, 12, 12), (2,2, 3,3,3,4,4,4,5,5,5), (1, 3, 4, 5, 5, 5, 6, 6, 6, 7, 7), (3, 3, 3, 10, 10, 23, 23, 24, 25, 25, 25)]\n",
    "hists = states2hists(states, kind_tile)\n",
    "onehots = hists2onehots(hists, kind_tile)\n",
    "#print(onehot)\n",
    "model.predict(onehots)"
   ]
  },
  {
   "cell_type": "code",
   "execution_count": 124,
   "metadata": {},
   "outputs": [
    {
     "name": "stdout",
     "output_type": "stream",
     "text": [
      "[ 1  4  6  7  7  9 10 11 13 13 14 17 18 28] [2.7112908e-19]\n",
      "[ 6  7  9 10 10 11 18 22 24 30 31 33 33 33] [3.60924067e-12]\n",
      "[ 1  2  3  6 12 17 18 21 23 24 28 29 30 33] [1.12470861e-32]\n",
      "[ 6  7  7 12 14 15 15 18 19 20 21 28 31 31] [0.99678415]\n",
      "[ 0  0  0  6  6  7  7  8  8 25 25 28 28 28] [0.99112002]\n",
      "[ 3  6 12 14 17 18 19 20 25 27 28 28 30 33] [3.31358031e-39]\n",
      "[ 5 11 17 18 20 21 22 25 26 26 30 31 32 33] [0.99990096]\n",
      "[ 0  3  5  9 10 14 14 19 21 28 29 31 31 32] [8.20572096e-13]\n",
      "[13 13 14 15 16 19 19 20 20 21 21 21 22 23] [2.28736378e-08]\n",
      "[ 5  6  7  9 10 11 13 13 13 21 21 26 26 26] [0.99994997]\n"
     ]
    }
   ],
   "source": [
    "num = 10\n",
    "ans = model.predict(x_test[:num])\n",
    "for i in range(num):\n",
    "    print(x[i], ans[i])\n",
    "    "
   ]
  },
  {
   "cell_type": "code",
   "execution_count": null,
   "metadata": {},
   "outputs": [],
   "source": []
  },
  {
   "cell_type": "code",
   "execution_count": null,
   "metadata": {},
   "outputs": [],
   "source": []
  },
  {
   "cell_type": "code",
   "execution_count": null,
   "metadata": {},
   "outputs": [],
   "source": []
  },
  {
   "cell_type": "code",
   "execution_count": null,
   "metadata": {},
   "outputs": [],
   "source": []
  },
  {
   "cell_type": "code",
   "execution_count": null,
   "metadata": {},
   "outputs": [],
   "source": []
  },
  {
   "cell_type": "code",
   "execution_count": null,
   "metadata": {},
   "outputs": [],
   "source": []
  },
  {
   "cell_type": "code",
   "execution_count": null,
   "metadata": {},
   "outputs": [],
   "source": []
  },
  {
   "cell_type": "code",
   "execution_count": null,
   "metadata": {},
   "outputs": [],
   "source": []
  },
  {
   "cell_type": "code",
   "execution_count": null,
   "metadata": {},
   "outputs": [],
   "source": []
  },
  {
   "cell_type": "code",
   "execution_count": 67,
   "metadata": {},
   "outputs": [
    {
     "name": "stdout",
     "output_type": "stream",
     "text": [
      "[[1. 0. 0. 0. 0. 0. 0. 0. 0.]\n",
      " [1. 0. 0. 0. 0. 0. 0. 0. 0.]\n",
      " [1. 0. 0. 0. 0. 0. 0. 0. 0.]\n",
      " [0. 0. 1. 0. 0. 0. 0. 0. 0.]\n",
      " [0. 0. 1. 0. 0. 0. 0. 0. 0.]\n",
      " [0. 0. 0. 1. 0. 0. 0. 0. 0.]\n",
      " [0. 0. 0. 1. 0. 0. 0. 0. 0.]\n",
      " [0. 0. 0. 0. 1. 0. 0. 0. 0.]\n",
      " [0. 0. 0. 0. 1. 0. 0. 0. 0.]\n",
      " [0. 0. 0. 0. 1. 0. 0. 0. 0.]\n",
      " [0. 0. 0. 0. 0. 1. 0. 0. 0.]\n",
      " [0. 0. 0. 0. 0. 0. 1. 0. 0.]\n",
      " [0. 0. 0. 0. 0. 0. 0. 1. 0.]\n",
      " [0. 0. 0. 0. 0. 0. 0. 0. 1.]]\n",
      "[[1. 0. 0. 0. 0. 0. 0. 0. 0.]\n",
      " [1. 0. 0. 0. 0. 0. 0. 0. 0.]\n",
      " [0. 1. 0. 0. 0. 0. 0. 0. 0.]\n",
      " [0. 1. 0. 0. 0. 0. 0. 0. 0.]\n",
      " [0. 0. 1. 0. 0. 0. 0. 0. 0.]\n",
      " [0. 0. 0. 1. 0. 0. 0. 0. 0.]\n",
      " [0. 0. 0. 0. 1. 0. 0. 0. 0.]\n",
      " [0. 0. 0. 0. 1. 0. 0. 0. 0.]\n",
      " [0. 0. 0. 0. 0. 1. 0. 0. 0.]\n",
      " [0. 0. 0. 0. 0. 1. 0. 0. 0.]\n",
      " [0. 0. 0. 0. 0. 1. 0. 0. 0.]\n",
      " [0. 0. 0. 0. 0. 0. 1. 0. 0.]\n",
      " [0. 0. 0. 0. 0. 0. 0. 0. 1.]\n",
      " [0. 0. 0. 0. 0. 0. 0. 0. 1.]]\n",
      "[[1. 0. 0. 0. 0. 0. 0. 0. 0.]\n",
      " [1. 0. 0. 0. 0. 0. 0. 0. 0.]\n",
      " [1. 0. 0. 0. 0. 0. 0. 0. 0.]\n",
      " [0. 0. 0. 1. 0. 0. 0. 0. 0.]\n",
      " [0. 0. 0. 1. 0. 0. 0. 0. 0.]\n",
      " [0. 0. 0. 0. 1. 0. 0. 0. 0.]\n",
      " [0. 0. 0. 0. 0. 1. 0. 0. 0.]\n",
      " [0. 0. 0. 0. 0. 1. 0. 0. 0.]\n",
      " [0. 0. 0. 0. 0. 1. 0. 0. 0.]\n",
      " [0. 0. 0. 0. 0. 0. 1. 0. 0.]\n",
      " [0. 0. 0. 0. 0. 0. 1. 0. 0.]\n",
      " [0. 0. 0. 0. 0. 0. 1. 0. 0.]\n",
      " [0. 0. 0. 0. 0. 0. 0. 1. 0.]\n",
      " [0. 0. 0. 0. 0. 0. 0. 1. 0.]]\n"
     ]
    }
   ],
   "source": [
    "kind_tile = 9\n",
    "num_hand = 14\n",
    "\n",
    "# onehotにする方法\n",
    "x = np.load('data/state_list_9_14_100000_0.3.npy')\n",
    "for i in range(3):\n",
    "    a = np.identity(kind_tile)[x[i]]\n",
    "    print(a)"
   ]
  },
  {
   "cell_type": "code",
   "execution_count": 68,
   "metadata": {},
   "outputs": [
    {
     "data": {
      "text/plain": [
       "array([[[1., 0., 0., ..., 0., 0., 0.],\n",
       "        [1., 0., 0., ..., 0., 0., 0.],\n",
       "        [1., 0., 0., ..., 0., 0., 0.],\n",
       "        ...,\n",
       "        [0., 0., 0., ..., 1., 0., 0.],\n",
       "        [0., 0., 0., ..., 0., 1., 0.],\n",
       "        [0., 0., 0., ..., 0., 0., 1.]],\n",
       "\n",
       "       [[1., 0., 0., ..., 0., 0., 0.],\n",
       "        [1., 0., 0., ..., 0., 0., 0.],\n",
       "        [0., 1., 0., ..., 0., 0., 0.],\n",
       "        ...,\n",
       "        [0., 0., 0., ..., 1., 0., 0.],\n",
       "        [0., 0., 0., ..., 0., 0., 1.],\n",
       "        [0., 0., 0., ..., 0., 0., 1.]],\n",
       "\n",
       "       [[1., 0., 0., ..., 0., 0., 0.],\n",
       "        [1., 0., 0., ..., 0., 0., 0.],\n",
       "        [1., 0., 0., ..., 0., 0., 0.],\n",
       "        ...,\n",
       "        [0., 0., 0., ..., 1., 0., 0.],\n",
       "        [0., 0., 0., ..., 0., 1., 0.],\n",
       "        [0., 0., 0., ..., 0., 1., 0.]],\n",
       "\n",
       "       ...,\n",
       "\n",
       "       [[1., 0., 0., ..., 0., 0., 0.],\n",
       "        [1., 0., 0., ..., 0., 0., 0.],\n",
       "        [0., 0., 1., ..., 0., 0., 0.],\n",
       "        ...,\n",
       "        [0., 0., 0., ..., 0., 1., 0.],\n",
       "        [0., 0., 0., ..., 0., 1., 0.],\n",
       "        [0., 0., 0., ..., 0., 0., 1.]],\n",
       "\n",
       "       [[0., 1., 0., ..., 0., 0., 0.],\n",
       "        [0., 0., 1., ..., 0., 0., 0.],\n",
       "        [0., 0., 1., ..., 0., 0., 0.],\n",
       "        ...,\n",
       "        [0., 0., 0., ..., 1., 0., 0.],\n",
       "        [0., 0., 0., ..., 1., 0., 0.],\n",
       "        [0., 0., 0., ..., 1., 0., 0.]],\n",
       "\n",
       "       [[1., 0., 0., ..., 0., 0., 0.],\n",
       "        [1., 0., 0., ..., 0., 0., 0.],\n",
       "        [0., 1., 0., ..., 0., 0., 0.],\n",
       "        ...,\n",
       "        [0., 0., 0., ..., 0., 1., 0.],\n",
       "        [0., 0., 0., ..., 0., 1., 0.],\n",
       "        [0., 0., 0., ..., 0., 0., 1.]]])"
      ]
     },
     "execution_count": 68,
     "metadata": {},
     "output_type": "execute_result"
    }
   ],
   "source": [
    "a = np.identity(kind_tile)[x]\n",
    "a"
   ]
  },
  {
   "cell_type": "code",
   "execution_count": null,
   "metadata": {},
   "outputs": [],
   "source": []
  }
 ],
 "metadata": {
  "accelerator": "GPU",
  "colab": {
   "collapsed_sections": [],
   "name": "mini_mahjong_PNplot_split_optuna.ipynb",
   "provenance": [],
   "version": "0.3.2"
  },
  "kernelspec": {
   "display_name": "Python 3",
   "language": "python",
   "name": "python3"
  },
  "language_info": {
   "codemirror_mode": {
    "name": "ipython",
    "version": 3
   },
   "file_extension": ".py",
   "mimetype": "text/x-python",
   "name": "python",
   "nbconvert_exporter": "python",
   "pygments_lexer": "ipython3",
   "version": "3.7.3"
  },
  "toc": {
   "base_numbering": 1,
   "nav_menu": {},
   "number_sections": true,
   "sideBar": true,
   "skip_h1_title": false,
   "title_cell": "Table of Contents",
   "title_sidebar": "Contents",
   "toc_cell": false,
   "toc_position": {},
   "toc_section_display": true,
   "toc_window_display": false
  }
 },
 "nbformat": 4,
 "nbformat_minor": 1
}
