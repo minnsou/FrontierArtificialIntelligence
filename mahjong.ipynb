{
 "cells": [
  {
   "cell_type": "markdown",
   "metadata": {
    "colab_type": "text",
    "id": "tkLa-ZvjEvPc"
   },
   "source": [
    " **変数の意味**\n",
    "\n",
    "- state : あがりに必要な枚数の手牌の状態\n",
    "\n",
    "- hand : stateから一枚切った状態\n",
    "\n",
    "- hist : stateやhandをヒストグラムで表したもの（長さが牌種のリスト）\n",
    "\n",
    "- kind_tile : 用いる牌の種類数\n",
    "\n",
    "- num_hand : 手牌の枚数\n",
    "\n",
    "- NUM_SANE_TILE : 同一牌の枚数(基本的に4で固定)\n",
    "\n",
    "\n",
    "0=1m, 1=2m, ... , 7=8m, 8=9m, 9=1p, 10=2p, ... ,16=8p, 17=9p, 18=1s, 19=2s, ... ,25=8s, 26=9s, 27=東, ... , 33=中"
   ]
  },
  {
   "cell_type": "code",
   "execution_count": 1,
   "metadata": {},
   "outputs": [],
   "source": [
    "from collections import defaultdict\n",
    "import itertools\n",
    "import numpy as np\n",
    "import pandas as pd\n",
    "import matplotlib.pyplot as plt\n",
    "import random\n",
    "from sklearn.model_selection import train_test_split\n",
    "import time\n",
    "\n",
    "random_seed = 0\n",
    "np.random.seed(random_seed)"
   ]
  },
  {
   "cell_type": "markdown",
   "metadata": {
    "colab_type": "text",
    "id": "JiMFUnpH-fQ5"
   },
   "source": [
    "### 必要な関数の再定義"
   ]
  },
  {
   "cell_type": "code",
   "execution_count": 12,
   "metadata": {
    "colab": {},
    "colab_type": "code",
    "id": "CwuINT6T-fQ6"
   },
   "outputs": [],
   "source": [
    "def is_valid(seq, NUM_SAME_TIME=4): # 生成された組み合わせが手牌として妥当かどうかを判断する関数　tuple(seq)の一つ一つが一つの状態(手牌)に対応している\n",
    "    counts = defaultdict(lambda: 0)\n",
    "    for i in range(0, len(seq)):\n",
    "        if i + 1 < len(seq) and seq[i] > seq[i + 1]: # 前半の条件はiが一番最後以外は常に成立、後半の条件は昇順に整列するための条件\n",
    "            return False\n",
    "        counts[seq[i]] += 1\n",
    "        if (counts[seq[i]] > NUM_SAME_TILE): return False # 牌の上限枚数を超えたらFalse\n",
    "    return True\n",
    "    \n",
    "def generate_all_l(kind_tile, num_hand, NUM_SAME_TIME=4): # 全ての手牌の組み合わせをタプルで出力する関数\n",
    "    gen_list = []\n",
    "    for seq in itertools.product(range(kind_tile), repeat=num_hand):\n",
    "        if is_valid(seq, NUM_SAME_TIME):\n",
    "            gen_list.append(seq)\n",
    "    return gen_list\n",
    "\n",
    "def state2hist(state, kind_tile): # 手牌(state)を、牌種ごとの枚数のリスト(長さkind_tile)に変換する関数\n",
    "    hist = [0] * kind_tile # hist = [0,0,...,0]\n",
    "    for tile in state:\n",
    "        hist[tile] += 1\n",
    "    return hist\n",
    "\n",
    "def states2hists(state_list, kind_tile): # 手牌(state)のリストを、牌種ごとの枚数のリストに変換する関数\n",
    "    hist_list = []\n",
    "    for state in state_list:\n",
    "        #print(state)\n",
    "        hist = [0] * kind_tile # hist = [0,0,...,0]\n",
    "        for tile in state:\n",
    "            hist[tile] += 1\n",
    "        hist_list.append(hist)\n",
    "    return hist_list\n",
    "\n",
    "def state2hist_for_win(state, NUM_KIND_TILES=34): # あがり判定のために牌種の間には0を入れたhistを生成する関数\n",
    "    hist = [0] * (NUM_KIND_TILES + 9) # hist = [0,0,...,0]\n",
    "    for tile in state:\n",
    "        if tile <= 8: # 萬子\n",
    "            hist[tile] += 1\n",
    "        elif tile <= 17: # 筒子\n",
    "            hist[tile + 1] += 1\n",
    "        elif tile <= 26: # 索子\n",
    "            hist[tile + 2] += 1\n",
    "        else: # 字牌\n",
    "            hist[30 + (tile - 27) * 2] += 1\n",
    "    return hist\n",
    "\n",
    "def win_split_sub(hist, two, three, split_state, agari_list):\n",
    "    if any(x < 0 for x in hist):\n",
    "        return\n",
    "    if two == 0 and three == 0:\n",
    "        agari_list.append(tuple(split_state))\n",
    "        return\n",
    "    i = next(i for i, x in enumerate(hist) if x > 0) # histの中でx>０を満たす最小のindexを持ってくる\n",
    "    next_hist = [x - 2 if i == j else x for j, x in enumerate(hist)]\n",
    "    if two > 0 and hist[i] == 2: # 雀頭\n",
    "        win_split_sub(next_hist, two - 1, three, split_state + [(i, i)], agari_list)\n",
    "    next_hist = [x - 3 if i == j else x for j, x in enumerate(hist)]\n",
    "    if three > 0 and hist[i] == 3: # 刻子\n",
    "        win_split_sub(next_hist, two, three - 1, split_state + [(i, i, i)], agari_list)\n",
    "    next_hist = [x -1 if i <= j <= i + 2 else x for j, x in enumerate(hist)]\n",
    "    if three > 0 and i + 2 < len(hist): # 順子\n",
    "        win_split_sub(next_hist, two, three - 1, split_state + [(i, i+1, i+2)], agari_list)\n",
    "    return \n",
    "    \n",
    "def win_split_main(hist): # あがり判定\n",
    "    n_two = 1 if sum(hist) % 3 == 2 else 0\n",
    "    n_three = sum(hist) // 3\n",
    "    agari_list = []\n",
    "    win_split_sub(hist, n_two, n_three, [], agari_list)\n",
    "    if len(agari_list) == 0:\n",
    "        return (False, set())\n",
    "    else:\n",
    "        return (True, agari_list)\n",
    "\n",
    "def is_tanyao(state):\n",
    "    for hai in state:\n",
    "        if hai == 0 or hai == 8:\n",
    "            return False\n",
    "    return True\n",
    "\n",
    "def is_chanta(split_state):\n",
    "    state_value = True\n",
    "    for block in split_state:\n",
    "        if 0 in block or 8 in block:\n",
    "            continue\n",
    "        else:\n",
    "            state_value = False\n",
    "            break\n",
    "    return state_value\n",
    "\n",
    "def is_toitoi(split_state):\n",
    "    state_value = True\n",
    "    for block in split_state:\n",
    "        if len(block) == 2: # 雀頭\n",
    "            continue\n",
    "        else:  # 面子\n",
    "            if block[0] != block[1]:\n",
    "                state_value = False\n",
    "                break\n",
    "    return state_value\n",
    "    \n",
    "def is_ipeko(split_state):\n",
    "    for block in split_state:\n",
    "        if len(block) == 2:\n",
    "            continue\n",
    "        if block[0] != block[1]:\n",
    "            temp = list(split_state)\n",
    "            temp.remove(block)\n",
    "            if block in temp:\n",
    "                return True\n",
    "    return False\n",
    "\n",
    "def hist2onehot(hist, kind_tile, NUM_SAME_TIME=4): # 手牌１つをサイズ(kind_tile, NUM_SAME_TILE)の行列にする\n",
    "    matrix = np.zeros(kind_tile, NUM_SAME_TIME)\n",
    "    for i, num in enumerate(hist):\n",
    "        if num == 0:\n",
    "            continue\n",
    "        else:\n",
    "            matrix[i][:num] = 1\n",
    "    return matrix"
   ]
  },
  {
   "cell_type": "markdown",
   "metadata": {
    "colab_type": "text",
    "id": "xhvsLPaPW8YT"
   },
   "source": [
    "### 教師データの作成"
   ]
  },
  {
   "cell_type": "code",
   "execution_count": 5,
   "metadata": {
    "colab": {
     "base_uri": "https://localhost:8080/",
     "height": 725
    },
    "colab_type": "code",
    "id": "SloFByrwWqgy",
    "outputId": "ca314639-8742-4254-d889-8895b78246f7"
   },
   "outputs": [],
   "source": [
    "# データの作成時のみ動かす（サイズが小さい時）\n",
    "kind_tile = 9\n",
    "num_hand = 5\n",
    "NUM_SAME_TILE = 4\n",
    "\n",
    "state_list = generate_all_l(kind_tile, num_hand, NUM_SAME_TILE)\n",
    "state_hist_list = states2hists(state_list, kind_tile)\n",
    "\n",
    "is_win_list = []\n",
    "for state_hist in state_hist_list:\n",
    "    is_win_list.append(win_split_main(state_hist)[0])\n",
    "    \n",
    "np.save('data/state_list_{}_{}'.format(kind_tile, num_hand), np.array(state_list))\n",
    "np.save('data/is_win_list_{}_{}'.format(kind_tile, num_hand), np.array(is_win_list))"
   ]
  },
  {
   "cell_type": "code",
   "execution_count": 28,
   "metadata": {},
   "outputs": [],
   "source": [
    "# データの作成時のみ動かす（サイズが大きい時）\n",
    "NUM_KIND_TILES = 34\n",
    "kind_tile = 34\n",
    "num_hand = 14\n",
    "NUM_SAME_TILE = 4\n",
    "num_states = 1000000 # 教師データのサイズ\n",
    "win_rate = 0.3\n",
    "\n",
    "state_list = []\n",
    "is_win_list = []\n",
    "for i in range(num_states):\n",
    "    if np.random.rand() < win_rate: # あがりの形をtrue_rateの割合で生成\n",
    "        while(True):\n",
    "            state = []\n",
    "            for j in range(4): # 面子を追加\n",
    "                if np.random.rand() < 0.3: # 刻子\n",
    "                    tile = np.random.randint(0, kind_tile)\n",
    "                    for l in range(3):\n",
    "                        state.append(tile)\n",
    "                else:\n",
    "                    while(True):\n",
    "                        tile = np.random.randint(0, min(kind_tile, 25))\n",
    "                        if not tile in (7, 8, 16, 17):\n",
    "                            break\n",
    "                    for l in range(3):\n",
    "                        state.append(tile + l)\n",
    "            tile = np.random.randint(0, kind_tile) # 雀頭\n",
    "            for m in range(2):\n",
    "                state.append(tile)\n",
    "            is_valid = True # 5枚以上同じ牌を使っていないか判定\n",
    "            for tile in state:\n",
    "                if state.count(tile) >= 5:\n",
    "                    is_valid = False\n",
    "                    break\n",
    "            if is_valid:\n",
    "                break\n",
    "    else:\n",
    "        all_tile = np.array([i for i in range(kind_tile) for j in range(NUM_SAME_TILE)])\n",
    "        state = np.random.permutation(all_tile)[:num_hand].tolist()\n",
    "    \n",
    "    state = tuple(sorted(state))\n",
    "    #print(state)\n",
    "    hist = state2hist_for_win(state, NUM_KIND_TILES)\n",
    "    #print(hist)\n",
    "    state_list.append(state)\n",
    "    is_win_list.append(win_split_main(hist)[0])\n",
    "    #print(win_split_main(hist)[0])\n",
    "    \n",
    "np.save('data/state_list_{}_{}_{}_{}'.format(kind_tile, num_hand, num_states, win_rate), np.array(state_list))\n",
    "np.save('data/is_win_list_{}_{}_{}_{}'.format(kind_tile, num_hand, num_states, win_rate), np.array(is_win_list))"
   ]
  },
  {
   "cell_type": "code",
   "execution_count": 24,
   "metadata": {},
   "outputs": [
    {
     "name": "stdout",
     "output_type": "stream",
     "text": [
      "(0, 3, 7, 7, 11, 15, 18, 19, 20, 22, 24, 26, 27, 28) False\n",
      "(3, 4, 4, 11, 15, 16, 17, 17, 19, 20, 20, 21, 32, 33) False\n",
      "(4, 5, 8, 9, 10, 11, 11, 17, 18, 23, 29, 29, 31, 31) False\n",
      "(2, 3, 4, 7, 11, 14, 16, 22, 26, 26, 27, 28, 29, 32) False\n",
      "(2, 4, 5, 6, 17, 18, 20, 23, 23, 25, 27, 29, 30, 32) False\n",
      "(1, 1, 12, 16, 17, 20, 22, 22, 24, 28, 28, 29, 30, 30) False\n",
      "(1, 3, 5, 6, 7, 17, 20, 23, 24, 25, 28, 28, 28, 29) False\n",
      "(10, 13, 14, 19, 19, 22, 24, 24, 26, 26, 29, 30, 31, 33) False\n",
      "(2, 4, 7, 7, 8, 9, 16, 17, 17, 19, 20, 26, 31, 33) False\n",
      "(2, 2, 9, 9, 10, 12, 13, 14, 16, 22, 25, 29, 30, 31) False\n"
     ]
    }
   ],
   "source": [
    "for i in range(len(state_list)):\n",
    "    print(state_list[i], is_win_list[i])"
   ]
  },
  {
   "cell_type": "markdown",
   "metadata": {},
   "source": [
    "0で穴埋めすると実際のサイズより大きくなる\n",
    "\n",
    "m 9 -> 9\n",
    "\n",
    "m, p 18 -> 19\n",
    "\n",
    "m, p, t 25 -> 33\n",
    "\n",
    "m, p, s 27 -> 29\n",
    "\n",
    "m, p, s, t 34 -> 43\n",
    "\n",
    "実際にやるのは萬子のみと全種類くらいじゃね？"
   ]
  },
  {
   "cell_type": "code",
   "execution_count": 41,
   "metadata": {},
   "outputs": [
    {
     "data": {
      "text/plain": [
       "False"
      ]
     },
     "execution_count": 41,
     "metadata": {},
     "output_type": "execute_result"
    }
   ],
   "source": [
    "state = (23, 24, 25, 25, 26, 27, 27, 27)\n",
    "hist = state2hist_for_win(state, kind_tile)\n",
    "win_split_main(hist)[0]"
   ]
  },
  {
   "cell_type": "code",
   "execution_count": null,
   "metadata": {},
   "outputs": [],
   "source": []
  }
 ],
 "metadata": {
  "accelerator": "GPU",
  "colab": {
   "collapsed_sections": [],
   "name": "mini_mahjong_PNplot_split_optuna.ipynb",
   "provenance": [],
   "version": "0.3.2"
  },
  "kernelspec": {
   "display_name": "Python 3",
   "language": "python",
   "name": "python3"
  },
  "language_info": {
   "codemirror_mode": {
    "name": "ipython",
    "version": 3
   },
   "file_extension": ".py",
   "mimetype": "text/x-python",
   "name": "python",
   "nbconvert_exporter": "python",
   "pygments_lexer": "ipython3",
   "version": "3.7.3"
  },
  "toc": {
   "base_numbering": 1,
   "nav_menu": {},
   "number_sections": true,
   "sideBar": true,
   "skip_h1_title": false,
   "title_cell": "Table of Contents",
   "title_sidebar": "Contents",
   "toc_cell": false,
   "toc_position": {},
   "toc_section_display": true,
   "toc_window_display": false
  }
 },
 "nbformat": 4,
 "nbformat_minor": 1
}
